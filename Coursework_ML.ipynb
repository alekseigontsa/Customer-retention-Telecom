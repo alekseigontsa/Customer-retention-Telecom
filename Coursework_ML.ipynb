{
 "cells": [
  {
   "cell_type": "markdown",
   "metadata": {
    "id": "BBv-oIFLVYRz"
   },
   "source": [
    "# Удержание клиентов Телеком\n",
    "<br>\n",
    "\n",
    "<br><br>\n",
    "**Описание работы:**\n",
    "&nbsp;&nbsp;&nbsp;&nbsp;\n",
    "<br><br>\n",
    "&nbsp;&nbsp;&nbsp;&nbsp; Любой бизнес хочет максимизировать количество клиентов. Для достижения этой цели важно не только пытаться привлечь новых, но и удерживать уже существующих. Удержать клиента обойдется компании дешевле, чем привлечь нового. Кроме того, новый клиент может оказаться слабо заинтересованным в услугах бизнеса и с ним будет сложно работать, тогда как о старых клиентах уже есть необходимые данные по взаимодействию с сервисом. \n",
    " <br>\n",
    "\n",
    "&nbsp;&nbsp;&nbsp;&nbsp; Соответственно, прогнозируя отток, мы можем вовремя среагировать и попытаться удержать клиента, который хочет уйти. Опираясь на данные об услугах, которыми пользуется клиент, мы можем сделать ему специальное предложение, пытаясь изменить его решение об уходе от оператора. Благодаря этому задача удержания будет легче в реализации, чем задача привлечения новых пользователей, о которых мы еще ничего не знаем.<br>\n",
    "\n",
    "&nbsp;&nbsp;&nbsp;&nbsp; Вам предоставлен набор данных от телекоммуникационной компании. В данных содержится информация о почти шести тысячах пользователей, их демографических характеристиках, услугах, которыми они пользуются, длительности пользования услугами оператора, методе оплаты, размере оплаты. \n",
    "<br>\n",
    "\n",
    "&nbsp;&nbsp;&nbsp;&nbsp; Cтоит задача проанализировать данные и спрогнозировать отток пользователей (выявить людей, которые продлят контракт и которые не продлят).\n",
    "\n",
    "\n",
    "<br><br>\n",
    "\n",
    "_________\n",
    "\n",
    "[Codebook](#Codebook) <br>\n",
    "[1. Описание данных](#1.-Описание-данных)<br>\n",
    "[2. Исследование зависимостей и формулирование гипотез](#2.-Исследование-зависимостей-и-формулирование-гипотез)<br>\n",
    "[3. Построение моделей для прогнозирования оттока](#3.-Построение-моделей-для-прогнозирования-оттока)<br>\n",
    "[4. Сравнение качества моделей](#4.-Сравнение-качества-моделей) <br>\n"
   ]
  },
  {
   "cell_type": "markdown",
   "metadata": {
    "id": "uZY64JwzVYR6"
   },
   "source": [
    "## Codebook\n",
    "<br>\n",
    "\n",
    "[Ссылка для скачивания данных](https://drive.google.com/open?id=1dPCG76ST6NohYKtVMGv6HpFL-jD5p1eJ) \n",
    "<br><br>\n",
    "\n",
    "`telecom_users.csv` содержит следующие значения:<br><br>\n",
    "\n",
    "&nbsp;&nbsp;&nbsp;&nbsp; `customerID` – id клиента<br>\n",
    "&nbsp;&nbsp;&nbsp;&nbsp; `gender` – пол клиента (male/female)<br>\n",
    "&nbsp;&nbsp;&nbsp;&nbsp; `SeniorCitizen` – яляется ли клиент пенсионером (1, 0)<br>\n",
    "&nbsp;&nbsp;&nbsp;&nbsp; `Partner` – состоит ли клиент в браке (Yes, No)<br>\n",
    "&nbsp;&nbsp;&nbsp;&nbsp; `Dependents` – есть ли у клиента иждивенцы (Yes, No)<br>\n",
    "&nbsp;&nbsp;&nbsp;&nbsp; `tenure` – сколько месяцев человек являлся клиентом компании<br>\n",
    "&nbsp;&nbsp;&nbsp;&nbsp; `PhoneService` – подключена ли услуга телефонной связи (Yes, No)<br>\n",
    "&nbsp;&nbsp;&nbsp;&nbsp; `MultipleLines` – подключены ли несколько телефонных линий (Yes, No, No phone service)<br>\n",
    "&nbsp;&nbsp;&nbsp;&nbsp; `InternetService` – интернет-провайдер клиента (DSL, Fiber optic, No)<br>\n",
    "&nbsp;&nbsp;&nbsp;&nbsp; `OnlineSecurity` – подключена ли услуга онлайн-безопасности (Yes, No, No internet service)<br>\n",
    "&nbsp;&nbsp;&nbsp;&nbsp; `OnlineBackup` – подключена ли услуга online backup (Yes, No, No internet service)<br>\n",
    "&nbsp;&nbsp;&nbsp;&nbsp; `DeviceProtection` – есть ли у клиента страховка оборудования (Yes, No, No internet service)<br>\n",
    "&nbsp;&nbsp;&nbsp;&nbsp; `TechSupport` – подключена ли услуга технической поддержки (Yes, No, No internet service)<br>\n",
    "&nbsp;&nbsp;&nbsp;&nbsp; `StreamingTV` – подключена ли услуга стримингового телевидения (Yes, No, No internet service)<br>\n",
    "&nbsp;&nbsp;&nbsp;&nbsp; `StreamingMovies` – подключена ли услуга стримингового кинотеатра (Yes, No, No internet service)<br>\n",
    "&nbsp;&nbsp;&nbsp;&nbsp; `Contract` – тип контракта клиента (Month-to-month, One year, Two year)<br>\n",
    "&nbsp;&nbsp;&nbsp;&nbsp; `PaperlessBilling` – пользуется ли клиент безбумажным биллингом (Yes, No)<br>\n",
    "&nbsp;&nbsp;&nbsp;&nbsp; `PaymentMethod` – метод оплаты (Electronic check, Mailed check, Bank transfer (automatic), Credit card (automatic))<br>\n",
    "&nbsp;&nbsp;&nbsp;&nbsp; `MonthlyCharges` – месячный размер оплаты на настоящий момент<br>\n",
    "&nbsp;&nbsp;&nbsp;&nbsp; `TotalCharges` – общая сумма, которую клиент заплатил за услуги за все время<br>\n",
    "&nbsp;&nbsp;&nbsp;&nbsp; `Churn` – произошел ли отток (Yes or No)<br>"
   ]
  },
  {
   "cell_type": "markdown",
   "metadata": {},
   "source": [
    "### Загрузка библитотек и данных"
   ]
  },
  {
   "cell_type": "code",
   "execution_count": 3,
   "metadata": {},
   "outputs": [],
   "source": [
    "import pandas as pd\n",
    "import numpy as np\n",
    "import re\n",
    "import seaborn as sns\n",
    "import matplotlib.pyplot as plt\n",
    "%matplotlib inline\n",
    "sns.set_style(\"whitegrid\")\n",
    "\n",
    "import math\n",
    "import missingno as msno\n",
    "from datetime import datetime, timedelta\n",
    "\n",
    "from sklearn.feature_selection import SelectKBest, f_classif\n",
    "from sklearn.model_selection import (train_test_split, StratifiedKFold, KFold,\\\n",
    "                                     GridSearchCV, cross_val_score)\n",
    "\n",
    "from sklearn.neighbors import KNeighborsClassifier\n",
    "from sklearn.naive_bayes import GaussianNB\n",
    "from sklearn.tree import DecisionTreeClassifier\n",
    "from sklearn.linear_model import LogisticRegression\n",
    "from sklearn.linear_model import SGDClassifier\n",
    "from sklearn.svm import SVC\n",
    "\n",
    "from sklearn.ensemble import AdaBoostClassifier, RandomForestClassifier, GradientBoostingClassifier\n",
    "\n",
    "import xgboost as xgb\n",
    "\n",
    "from sklearn.preprocessing import StandardScaler\n",
    "\n",
    "from sklearn.decomposition import PCA\n",
    "from sklearn.decomposition import TruncatedSVD as SVD\n",
    "from sklearn.manifold import TSNE\n",
    "\n",
    "from sklearn.metrics import (accuracy_score, confusion_matrix,\\\n",
    "                             precision_score, recall_score,\\\n",
    "                             roc_auc_score, roc_curve, f1_score)"
   ]
  },
  {
   "cell_type": "code",
   "execution_count": 4,
   "metadata": {},
   "outputs": [],
   "source": [
    "#Загружаем DataFrame\n",
    "df = pd.read_csv('telecom_users.csv', sep=',', index_col=0)"
   ]
  },
  {
   "cell_type": "code",
   "execution_count": 5,
   "metadata": {},
   "outputs": [],
   "source": [
    "df.reset_index(drop=True, inplace=True)"
   ]
  },
  {
   "cell_type": "code",
   "execution_count": 6,
   "metadata": {},
   "outputs": [
    {
     "data": {
      "text/html": [
       "<div>\n",
       "<style scoped>\n",
       "    .dataframe tbody tr th:only-of-type {\n",
       "        vertical-align: middle;\n",
       "    }\n",
       "\n",
       "    .dataframe tbody tr th {\n",
       "        vertical-align: top;\n",
       "    }\n",
       "\n",
       "    .dataframe thead th {\n",
       "        text-align: right;\n",
       "    }\n",
       "</style>\n",
       "<table border=\"1\" class=\"dataframe\">\n",
       "  <thead>\n",
       "    <tr style=\"text-align: right;\">\n",
       "      <th></th>\n",
       "      <th>customerID</th>\n",
       "      <th>gender</th>\n",
       "      <th>SeniorCitizen</th>\n",
       "      <th>Partner</th>\n",
       "      <th>Dependents</th>\n",
       "      <th>tenure</th>\n",
       "      <th>PhoneService</th>\n",
       "      <th>MultipleLines</th>\n",
       "      <th>InternetService</th>\n",
       "      <th>OnlineSecurity</th>\n",
       "      <th>...</th>\n",
       "      <th>DeviceProtection</th>\n",
       "      <th>TechSupport</th>\n",
       "      <th>StreamingTV</th>\n",
       "      <th>StreamingMovies</th>\n",
       "      <th>Contract</th>\n",
       "      <th>PaperlessBilling</th>\n",
       "      <th>PaymentMethod</th>\n",
       "      <th>MonthlyCharges</th>\n",
       "      <th>TotalCharges</th>\n",
       "      <th>Churn</th>\n",
       "    </tr>\n",
       "  </thead>\n",
       "  <tbody>\n",
       "    <tr>\n",
       "      <th>0</th>\n",
       "      <td>7010-BRBUU</td>\n",
       "      <td>Male</td>\n",
       "      <td>0</td>\n",
       "      <td>Yes</td>\n",
       "      <td>Yes</td>\n",
       "      <td>72</td>\n",
       "      <td>Yes</td>\n",
       "      <td>Yes</td>\n",
       "      <td>No</td>\n",
       "      <td>No internet service</td>\n",
       "      <td>...</td>\n",
       "      <td>No internet service</td>\n",
       "      <td>No internet service</td>\n",
       "      <td>No internet service</td>\n",
       "      <td>No internet service</td>\n",
       "      <td>Two year</td>\n",
       "      <td>No</td>\n",
       "      <td>Credit card (automatic)</td>\n",
       "      <td>24.10</td>\n",
       "      <td>1734.65</td>\n",
       "      <td>No</td>\n",
       "    </tr>\n",
       "    <tr>\n",
       "      <th>1</th>\n",
       "      <td>9688-YGXVR</td>\n",
       "      <td>Female</td>\n",
       "      <td>0</td>\n",
       "      <td>No</td>\n",
       "      <td>No</td>\n",
       "      <td>44</td>\n",
       "      <td>Yes</td>\n",
       "      <td>No</td>\n",
       "      <td>Fiber optic</td>\n",
       "      <td>No</td>\n",
       "      <td>...</td>\n",
       "      <td>Yes</td>\n",
       "      <td>No</td>\n",
       "      <td>Yes</td>\n",
       "      <td>No</td>\n",
       "      <td>Month-to-month</td>\n",
       "      <td>Yes</td>\n",
       "      <td>Credit card (automatic)</td>\n",
       "      <td>88.15</td>\n",
       "      <td>3973.2</td>\n",
       "      <td>No</td>\n",
       "    </tr>\n",
       "    <tr>\n",
       "      <th>2</th>\n",
       "      <td>9286-DOJGF</td>\n",
       "      <td>Female</td>\n",
       "      <td>1</td>\n",
       "      <td>Yes</td>\n",
       "      <td>No</td>\n",
       "      <td>38</td>\n",
       "      <td>Yes</td>\n",
       "      <td>Yes</td>\n",
       "      <td>Fiber optic</td>\n",
       "      <td>No</td>\n",
       "      <td>...</td>\n",
       "      <td>No</td>\n",
       "      <td>No</td>\n",
       "      <td>No</td>\n",
       "      <td>No</td>\n",
       "      <td>Month-to-month</td>\n",
       "      <td>Yes</td>\n",
       "      <td>Bank transfer (automatic)</td>\n",
       "      <td>74.95</td>\n",
       "      <td>2869.85</td>\n",
       "      <td>Yes</td>\n",
       "    </tr>\n",
       "    <tr>\n",
       "      <th>3</th>\n",
       "      <td>6994-KERXL</td>\n",
       "      <td>Male</td>\n",
       "      <td>0</td>\n",
       "      <td>No</td>\n",
       "      <td>No</td>\n",
       "      <td>4</td>\n",
       "      <td>Yes</td>\n",
       "      <td>No</td>\n",
       "      <td>DSL</td>\n",
       "      <td>No</td>\n",
       "      <td>...</td>\n",
       "      <td>No</td>\n",
       "      <td>No</td>\n",
       "      <td>No</td>\n",
       "      <td>Yes</td>\n",
       "      <td>Month-to-month</td>\n",
       "      <td>Yes</td>\n",
       "      <td>Electronic check</td>\n",
       "      <td>55.90</td>\n",
       "      <td>238.5</td>\n",
       "      <td>No</td>\n",
       "    </tr>\n",
       "    <tr>\n",
       "      <th>4</th>\n",
       "      <td>2181-UAESM</td>\n",
       "      <td>Male</td>\n",
       "      <td>0</td>\n",
       "      <td>No</td>\n",
       "      <td>No</td>\n",
       "      <td>2</td>\n",
       "      <td>Yes</td>\n",
       "      <td>No</td>\n",
       "      <td>DSL</td>\n",
       "      <td>Yes</td>\n",
       "      <td>...</td>\n",
       "      <td>Yes</td>\n",
       "      <td>No</td>\n",
       "      <td>No</td>\n",
       "      <td>No</td>\n",
       "      <td>Month-to-month</td>\n",
       "      <td>No</td>\n",
       "      <td>Electronic check</td>\n",
       "      <td>53.45</td>\n",
       "      <td>119.5</td>\n",
       "      <td>No</td>\n",
       "    </tr>\n",
       "  </tbody>\n",
       "</table>\n",
       "<p>5 rows × 21 columns</p>\n",
       "</div>"
      ],
      "text/plain": [
       "   customerID  gender  SeniorCitizen Partner Dependents  tenure PhoneService  \\\n",
       "0  7010-BRBUU    Male              0     Yes        Yes      72          Yes   \n",
       "1  9688-YGXVR  Female              0      No         No      44          Yes   \n",
       "2  9286-DOJGF  Female              1     Yes         No      38          Yes   \n",
       "3  6994-KERXL    Male              0      No         No       4          Yes   \n",
       "4  2181-UAESM    Male              0      No         No       2          Yes   \n",
       "\n",
       "  MultipleLines InternetService       OnlineSecurity  ...  \\\n",
       "0           Yes              No  No internet service  ...   \n",
       "1            No     Fiber optic                   No  ...   \n",
       "2           Yes     Fiber optic                   No  ...   \n",
       "3            No             DSL                   No  ...   \n",
       "4            No             DSL                  Yes  ...   \n",
       "\n",
       "      DeviceProtection          TechSupport          StreamingTV  \\\n",
       "0  No internet service  No internet service  No internet service   \n",
       "1                  Yes                   No                  Yes   \n",
       "2                   No                   No                   No   \n",
       "3                   No                   No                   No   \n",
       "4                  Yes                   No                   No   \n",
       "\n",
       "       StreamingMovies        Contract PaperlessBilling  \\\n",
       "0  No internet service        Two year               No   \n",
       "1                   No  Month-to-month              Yes   \n",
       "2                   No  Month-to-month              Yes   \n",
       "3                  Yes  Month-to-month              Yes   \n",
       "4                   No  Month-to-month               No   \n",
       "\n",
       "               PaymentMethod MonthlyCharges  TotalCharges Churn  \n",
       "0    Credit card (automatic)          24.10       1734.65    No  \n",
       "1    Credit card (automatic)          88.15        3973.2    No  \n",
       "2  Bank transfer (automatic)          74.95       2869.85   Yes  \n",
       "3           Electronic check          55.90         238.5    No  \n",
       "4           Electronic check          53.45         119.5    No  \n",
       "\n",
       "[5 rows x 21 columns]"
      ]
     },
     "execution_count": 6,
     "metadata": {},
     "output_type": "execute_result"
    }
   ],
   "source": [
    "df.head(5)"
   ]
  },
  {
   "cell_type": "markdown",
   "metadata": {
    "id": "sIRCLuWGVYR9"
   },
   "source": [
    "# 1. Описание данных"
   ]
  },
  {
   "cell_type": "markdown",
   "metadata": {},
   "source": [
    "#### Посмотрим на главные характеристики датасета:"
   ]
  },
  {
   "cell_type": "code",
   "execution_count": 7,
   "metadata": {},
   "outputs": [
    {
     "data": {
      "text/plain": [
       "(5986, 21)"
      ]
     },
     "execution_count": 7,
     "metadata": {},
     "output_type": "execute_result"
    }
   ],
   "source": [
    "df.shape"
   ]
  },
  {
   "cell_type": "code",
   "execution_count": 8,
   "metadata": {},
   "outputs": [
    {
     "name": "stdout",
     "output_type": "stream",
     "text": [
      "<class 'pandas.core.frame.DataFrame'>\n",
      "RangeIndex: 5986 entries, 0 to 5985\n",
      "Data columns (total 21 columns):\n",
      " #   Column            Non-Null Count  Dtype  \n",
      "---  ------            --------------  -----  \n",
      " 0   customerID        5986 non-null   object \n",
      " 1   gender            5986 non-null   object \n",
      " 2   SeniorCitizen     5986 non-null   int64  \n",
      " 3   Partner           5986 non-null   object \n",
      " 4   Dependents        5986 non-null   object \n",
      " 5   tenure            5986 non-null   int64  \n",
      " 6   PhoneService      5986 non-null   object \n",
      " 7   MultipleLines     5986 non-null   object \n",
      " 8   InternetService   5986 non-null   object \n",
      " 9   OnlineSecurity    5986 non-null   object \n",
      " 10  OnlineBackup      5986 non-null   object \n",
      " 11  DeviceProtection  5986 non-null   object \n",
      " 12  TechSupport       5986 non-null   object \n",
      " 13  StreamingTV       5986 non-null   object \n",
      " 14  StreamingMovies   5986 non-null   object \n",
      " 15  Contract          5986 non-null   object \n",
      " 16  PaperlessBilling  5986 non-null   object \n",
      " 17  PaymentMethod     5986 non-null   object \n",
      " 18  MonthlyCharges    5986 non-null   float64\n",
      " 19  TotalCharges      5986 non-null   object \n",
      " 20  Churn             5986 non-null   object \n",
      "dtypes: float64(1), int64(2), object(18)\n",
      "memory usage: 982.2+ KB\n"
     ]
    }
   ],
   "source": [
    "df.info()"
   ]
  },
  {
   "cell_type": "markdown",
   "metadata": {},
   "source": [
    "Странно, что столбец \"TotalCharges\" имеет тип данных \"object\", когда там должны быть только цифры."
   ]
  },
  {
   "cell_type": "code",
   "execution_count": 9,
   "metadata": {},
   "outputs": [
    {
     "data": {
      "text/plain": [
       "customerID          5986\n",
       "gender                 2\n",
       "SeniorCitizen          2\n",
       "Partner                2\n",
       "Dependents             2\n",
       "tenure                73\n",
       "PhoneService           2\n",
       "MultipleLines          3\n",
       "InternetService        3\n",
       "OnlineSecurity         3\n",
       "OnlineBackup           3\n",
       "DeviceProtection       3\n",
       "TechSupport            3\n",
       "StreamingTV            3\n",
       "StreamingMovies        3\n",
       "Contract               3\n",
       "PaperlessBilling       2\n",
       "PaymentMethod          4\n",
       "MonthlyCharges      1526\n",
       "TotalCharges        5611\n",
       "Churn                  2\n",
       "dtype: int64"
      ]
     },
     "execution_count": 9,
     "metadata": {},
     "output_type": "execute_result"
    }
   ],
   "source": [
    "df.nunique()"
   ]
  },
  {
   "cell_type": "markdown",
   "metadata": {},
   "source": [
    "#Посмотрим, есть ли пропуски в данных\n",
    "msno.matrix(df)"
   ]
  },
  {
   "cell_type": "code",
   "execution_count": 10,
   "metadata": {},
   "outputs": [
    {
     "name": "stdout",
     "output_type": "stream",
     "text": [
      "could not convert string to float\n"
     ]
    }
   ],
   "source": [
    "# Пробуем преобразовать тип данных столбца.\n",
    "try: \n",
    "    df['TotalCharges']=df.TotalCharges.astype('float64')\n",
    "except:\n",
    "    print ('could not convert string to float')"
   ]
  },
  {
   "cell_type": "markdown",
   "metadata": {},
   "source": [
    "Пропусков в датасете нет, но столбец с суммой оплаты клиента не может быть переведена в тип 'float64'. Посмотрим какие строковые значения имеет столбец"
   ]
  },
  {
   "cell_type": "code",
   "execution_count": 11,
   "metadata": {},
   "outputs": [
    {
     "data": {
      "text/plain": [
       "[' ']"
      ]
     },
     "execution_count": 11,
     "metadata": {},
     "output_type": "execute_result"
    }
   ],
   "source": [
    "# Составим список всех строковых значений из колонки 'TotalCharges'\n",
    "a=0\n",
    "mis=[]\n",
    "for i in df.TotalCharges:\n",
    "    try:\n",
    "        if float(i):\n",
    "            a+=1\n",
    "    except:\n",
    "        if i not in mis:\n",
    "            mis+=[i]\n",
    "mis"
   ]
  },
  {
   "cell_type": "markdown",
   "metadata": {},
   "source": [
    "Так как данные суммы оплата клиента являются произведение месяцев на месячную плату, то заполним пропуски."
   ]
  },
  {
   "cell_type": "code",
   "execution_count": 12,
   "metadata": {},
   "outputs": [],
   "source": [
    "df.loc[df['TotalCharges'].isin(mis), 'TotalCharges']=\\\n",
    "df.loc[df['TotalCharges'].isin(mis), 'MonthlyCharges']*df.loc[df['TotalCharges'].isin(mis), 'tenure']"
   ]
  },
  {
   "cell_type": "code",
   "execution_count": 13,
   "metadata": {},
   "outputs": [
    {
     "data": {
      "text/html": [
       "<div>\n",
       "<style scoped>\n",
       "    .dataframe tbody tr th:only-of-type {\n",
       "        vertical-align: middle;\n",
       "    }\n",
       "\n",
       "    .dataframe tbody tr th {\n",
       "        vertical-align: top;\n",
       "    }\n",
       "\n",
       "    .dataframe thead th {\n",
       "        text-align: right;\n",
       "    }\n",
       "</style>\n",
       "<table border=\"1\" class=\"dataframe\">\n",
       "  <thead>\n",
       "    <tr style=\"text-align: right;\">\n",
       "      <th></th>\n",
       "      <th>customerID</th>\n",
       "      <th>gender</th>\n",
       "      <th>SeniorCitizen</th>\n",
       "      <th>Partner</th>\n",
       "      <th>Dependents</th>\n",
       "      <th>tenure</th>\n",
       "      <th>PhoneService</th>\n",
       "      <th>MultipleLines</th>\n",
       "      <th>InternetService</th>\n",
       "      <th>OnlineSecurity</th>\n",
       "      <th>...</th>\n",
       "      <th>DeviceProtection</th>\n",
       "      <th>TechSupport</th>\n",
       "      <th>StreamingTV</th>\n",
       "      <th>StreamingMovies</th>\n",
       "      <th>Contract</th>\n",
       "      <th>PaperlessBilling</th>\n",
       "      <th>PaymentMethod</th>\n",
       "      <th>MonthlyCharges</th>\n",
       "      <th>TotalCharges</th>\n",
       "      <th>Churn</th>\n",
       "    </tr>\n",
       "  </thead>\n",
       "  <tbody>\n",
       "    <tr>\n",
       "      <th>356</th>\n",
       "      <td>2775-SEFEE</td>\n",
       "      <td>Male</td>\n",
       "      <td>0</td>\n",
       "      <td>No</td>\n",
       "      <td>Yes</td>\n",
       "      <td>0</td>\n",
       "      <td>Yes</td>\n",
       "      <td>Yes</td>\n",
       "      <td>DSL</td>\n",
       "      <td>Yes</td>\n",
       "      <td>...</td>\n",
       "      <td>No</td>\n",
       "      <td>Yes</td>\n",
       "      <td>No</td>\n",
       "      <td>No</td>\n",
       "      <td>Two year</td>\n",
       "      <td>Yes</td>\n",
       "      <td>Bank transfer (automatic)</td>\n",
       "      <td>61.90</td>\n",
       "      <td>0.0</td>\n",
       "      <td>No</td>\n",
       "    </tr>\n",
       "    <tr>\n",
       "      <th>634</th>\n",
       "      <td>1371-DWPAZ</td>\n",
       "      <td>Female</td>\n",
       "      <td>0</td>\n",
       "      <td>Yes</td>\n",
       "      <td>Yes</td>\n",
       "      <td>0</td>\n",
       "      <td>No</td>\n",
       "      <td>No phone service</td>\n",
       "      <td>DSL</td>\n",
       "      <td>Yes</td>\n",
       "      <td>...</td>\n",
       "      <td>Yes</td>\n",
       "      <td>Yes</td>\n",
       "      <td>Yes</td>\n",
       "      <td>No</td>\n",
       "      <td>Two year</td>\n",
       "      <td>No</td>\n",
       "      <td>Credit card (automatic)</td>\n",
       "      <td>56.05</td>\n",
       "      <td>0.0</td>\n",
       "      <td>No</td>\n",
       "    </tr>\n",
       "    <tr>\n",
       "      <th>2771</th>\n",
       "      <td>3213-VVOLG</td>\n",
       "      <td>Male</td>\n",
       "      <td>0</td>\n",
       "      <td>Yes</td>\n",
       "      <td>Yes</td>\n",
       "      <td>0</td>\n",
       "      <td>Yes</td>\n",
       "      <td>Yes</td>\n",
       "      <td>No</td>\n",
       "      <td>No internet service</td>\n",
       "      <td>...</td>\n",
       "      <td>No internet service</td>\n",
       "      <td>No internet service</td>\n",
       "      <td>No internet service</td>\n",
       "      <td>No internet service</td>\n",
       "      <td>Two year</td>\n",
       "      <td>No</td>\n",
       "      <td>Mailed check</td>\n",
       "      <td>25.35</td>\n",
       "      <td>0.0</td>\n",
       "      <td>No</td>\n",
       "    </tr>\n",
       "    <tr>\n",
       "      <th>3086</th>\n",
       "      <td>2923-ARZLG</td>\n",
       "      <td>Male</td>\n",
       "      <td>0</td>\n",
       "      <td>Yes</td>\n",
       "      <td>Yes</td>\n",
       "      <td>0</td>\n",
       "      <td>Yes</td>\n",
       "      <td>No</td>\n",
       "      <td>No</td>\n",
       "      <td>No internet service</td>\n",
       "      <td>...</td>\n",
       "      <td>No internet service</td>\n",
       "      <td>No internet service</td>\n",
       "      <td>No internet service</td>\n",
       "      <td>No internet service</td>\n",
       "      <td>One year</td>\n",
       "      <td>Yes</td>\n",
       "      <td>Mailed check</td>\n",
       "      <td>19.70</td>\n",
       "      <td>0.0</td>\n",
       "      <td>No</td>\n",
       "    </tr>\n",
       "    <tr>\n",
       "      <th>3255</th>\n",
       "      <td>7644-OMVMY</td>\n",
       "      <td>Male</td>\n",
       "      <td>0</td>\n",
       "      <td>Yes</td>\n",
       "      <td>Yes</td>\n",
       "      <td>0</td>\n",
       "      <td>Yes</td>\n",
       "      <td>No</td>\n",
       "      <td>No</td>\n",
       "      <td>No internet service</td>\n",
       "      <td>...</td>\n",
       "      <td>No internet service</td>\n",
       "      <td>No internet service</td>\n",
       "      <td>No internet service</td>\n",
       "      <td>No internet service</td>\n",
       "      <td>Two year</td>\n",
       "      <td>No</td>\n",
       "      <td>Mailed check</td>\n",
       "      <td>19.85</td>\n",
       "      <td>0.0</td>\n",
       "      <td>No</td>\n",
       "    </tr>\n",
       "    <tr>\n",
       "      <th>4326</th>\n",
       "      <td>5709-LVOEQ</td>\n",
       "      <td>Female</td>\n",
       "      <td>0</td>\n",
       "      <td>Yes</td>\n",
       "      <td>Yes</td>\n",
       "      <td>0</td>\n",
       "      <td>Yes</td>\n",
       "      <td>No</td>\n",
       "      <td>DSL</td>\n",
       "      <td>Yes</td>\n",
       "      <td>...</td>\n",
       "      <td>Yes</td>\n",
       "      <td>No</td>\n",
       "      <td>Yes</td>\n",
       "      <td>Yes</td>\n",
       "      <td>Two year</td>\n",
       "      <td>No</td>\n",
       "      <td>Mailed check</td>\n",
       "      <td>80.85</td>\n",
       "      <td>0.0</td>\n",
       "      <td>No</td>\n",
       "    </tr>\n",
       "    <tr>\n",
       "      <th>5375</th>\n",
       "      <td>3115-CZMZD</td>\n",
       "      <td>Male</td>\n",
       "      <td>0</td>\n",
       "      <td>No</td>\n",
       "      <td>Yes</td>\n",
       "      <td>0</td>\n",
       "      <td>Yes</td>\n",
       "      <td>No</td>\n",
       "      <td>No</td>\n",
       "      <td>No internet service</td>\n",
       "      <td>...</td>\n",
       "      <td>No internet service</td>\n",
       "      <td>No internet service</td>\n",
       "      <td>No internet service</td>\n",
       "      <td>No internet service</td>\n",
       "      <td>Two year</td>\n",
       "      <td>No</td>\n",
       "      <td>Mailed check</td>\n",
       "      <td>20.25</td>\n",
       "      <td>0.0</td>\n",
       "      <td>No</td>\n",
       "    </tr>\n",
       "    <tr>\n",
       "      <th>5382</th>\n",
       "      <td>2520-SGTTA</td>\n",
       "      <td>Female</td>\n",
       "      <td>0</td>\n",
       "      <td>Yes</td>\n",
       "      <td>Yes</td>\n",
       "      <td>0</td>\n",
       "      <td>Yes</td>\n",
       "      <td>No</td>\n",
       "      <td>No</td>\n",
       "      <td>No internet service</td>\n",
       "      <td>...</td>\n",
       "      <td>No internet service</td>\n",
       "      <td>No internet service</td>\n",
       "      <td>No internet service</td>\n",
       "      <td>No internet service</td>\n",
       "      <td>Two year</td>\n",
       "      <td>No</td>\n",
       "      <td>Mailed check</td>\n",
       "      <td>20.00</td>\n",
       "      <td>0.0</td>\n",
       "      <td>No</td>\n",
       "    </tr>\n",
       "    <tr>\n",
       "      <th>5695</th>\n",
       "      <td>4472-LVYGI</td>\n",
       "      <td>Female</td>\n",
       "      <td>0</td>\n",
       "      <td>Yes</td>\n",
       "      <td>Yes</td>\n",
       "      <td>0</td>\n",
       "      <td>No</td>\n",
       "      <td>No phone service</td>\n",
       "      <td>DSL</td>\n",
       "      <td>Yes</td>\n",
       "      <td>...</td>\n",
       "      <td>Yes</td>\n",
       "      <td>Yes</td>\n",
       "      <td>Yes</td>\n",
       "      <td>No</td>\n",
       "      <td>Two year</td>\n",
       "      <td>Yes</td>\n",
       "      <td>Bank transfer (automatic)</td>\n",
       "      <td>52.55</td>\n",
       "      <td>0.0</td>\n",
       "      <td>No</td>\n",
       "    </tr>\n",
       "    <tr>\n",
       "      <th>5951</th>\n",
       "      <td>4367-NUYAO</td>\n",
       "      <td>Male</td>\n",
       "      <td>0</td>\n",
       "      <td>Yes</td>\n",
       "      <td>Yes</td>\n",
       "      <td>0</td>\n",
       "      <td>Yes</td>\n",
       "      <td>Yes</td>\n",
       "      <td>No</td>\n",
       "      <td>No internet service</td>\n",
       "      <td>...</td>\n",
       "      <td>No internet service</td>\n",
       "      <td>No internet service</td>\n",
       "      <td>No internet service</td>\n",
       "      <td>No internet service</td>\n",
       "      <td>Two year</td>\n",
       "      <td>No</td>\n",
       "      <td>Mailed check</td>\n",
       "      <td>25.75</td>\n",
       "      <td>0.0</td>\n",
       "      <td>No</td>\n",
       "    </tr>\n",
       "  </tbody>\n",
       "</table>\n",
       "<p>10 rows × 21 columns</p>\n",
       "</div>"
      ],
      "text/plain": [
       "      customerID  gender  SeniorCitizen Partner Dependents  tenure  \\\n",
       "356   2775-SEFEE    Male              0      No        Yes       0   \n",
       "634   1371-DWPAZ  Female              0     Yes        Yes       0   \n",
       "2771  3213-VVOLG    Male              0     Yes        Yes       0   \n",
       "3086  2923-ARZLG    Male              0     Yes        Yes       0   \n",
       "3255  7644-OMVMY    Male              0     Yes        Yes       0   \n",
       "4326  5709-LVOEQ  Female              0     Yes        Yes       0   \n",
       "5375  3115-CZMZD    Male              0      No        Yes       0   \n",
       "5382  2520-SGTTA  Female              0     Yes        Yes       0   \n",
       "5695  4472-LVYGI  Female              0     Yes        Yes       0   \n",
       "5951  4367-NUYAO    Male              0     Yes        Yes       0   \n",
       "\n",
       "     PhoneService     MultipleLines InternetService       OnlineSecurity  ...  \\\n",
       "356           Yes               Yes             DSL                  Yes  ...   \n",
       "634            No  No phone service             DSL                  Yes  ...   \n",
       "2771          Yes               Yes              No  No internet service  ...   \n",
       "3086          Yes                No              No  No internet service  ...   \n",
       "3255          Yes                No              No  No internet service  ...   \n",
       "4326          Yes                No             DSL                  Yes  ...   \n",
       "5375          Yes                No              No  No internet service  ...   \n",
       "5382          Yes                No              No  No internet service  ...   \n",
       "5695           No  No phone service             DSL                  Yes  ...   \n",
       "5951          Yes               Yes              No  No internet service  ...   \n",
       "\n",
       "         DeviceProtection          TechSupport          StreamingTV  \\\n",
       "356                    No                  Yes                   No   \n",
       "634                   Yes                  Yes                  Yes   \n",
       "2771  No internet service  No internet service  No internet service   \n",
       "3086  No internet service  No internet service  No internet service   \n",
       "3255  No internet service  No internet service  No internet service   \n",
       "4326                  Yes                   No                  Yes   \n",
       "5375  No internet service  No internet service  No internet service   \n",
       "5382  No internet service  No internet service  No internet service   \n",
       "5695                  Yes                  Yes                  Yes   \n",
       "5951  No internet service  No internet service  No internet service   \n",
       "\n",
       "          StreamingMovies  Contract PaperlessBilling  \\\n",
       "356                    No  Two year              Yes   \n",
       "634                    No  Two year               No   \n",
       "2771  No internet service  Two year               No   \n",
       "3086  No internet service  One year              Yes   \n",
       "3255  No internet service  Two year               No   \n",
       "4326                  Yes  Two year               No   \n",
       "5375  No internet service  Two year               No   \n",
       "5382  No internet service  Two year               No   \n",
       "5695                   No  Two year              Yes   \n",
       "5951  No internet service  Two year               No   \n",
       "\n",
       "                  PaymentMethod MonthlyCharges  TotalCharges Churn  \n",
       "356   Bank transfer (automatic)          61.90           0.0    No  \n",
       "634     Credit card (automatic)          56.05           0.0    No  \n",
       "2771               Mailed check          25.35           0.0    No  \n",
       "3086               Mailed check          19.70           0.0    No  \n",
       "3255               Mailed check          19.85           0.0    No  \n",
       "4326               Mailed check          80.85           0.0    No  \n",
       "5375               Mailed check          20.25           0.0    No  \n",
       "5382               Mailed check          20.00           0.0    No  \n",
       "5695  Bank transfer (automatic)          52.55           0.0    No  \n",
       "5951               Mailed check          25.75           0.0    No  \n",
       "\n",
       "[10 rows x 21 columns]"
      ]
     },
     "execution_count": 13,
     "metadata": {},
     "output_type": "execute_result"
    }
   ],
   "source": [
    "# Клиенты, которые подключились первый месяц.\n",
    "df.loc[df['tenure']==0]"
   ]
  },
  {
   "cell_type": "code",
   "execution_count": 14,
   "metadata": {},
   "outputs": [],
   "source": [
    "df['TotalCharges']=df.TotalCharges.astype('float64')"
   ]
  },
  {
   "cell_type": "code",
   "execution_count": 15,
   "metadata": {},
   "outputs": [
    {
     "data": {
      "text/plain": [
       "customerID           object\n",
       "gender               object\n",
       "SeniorCitizen         int64\n",
       "Partner              object\n",
       "Dependents           object\n",
       "tenure                int64\n",
       "PhoneService         object\n",
       "MultipleLines        object\n",
       "InternetService      object\n",
       "OnlineSecurity       object\n",
       "OnlineBackup         object\n",
       "DeviceProtection     object\n",
       "TechSupport          object\n",
       "StreamingTV          object\n",
       "StreamingMovies      object\n",
       "Contract             object\n",
       "PaperlessBilling     object\n",
       "PaymentMethod        object\n",
       "MonthlyCharges      float64\n",
       "TotalCharges        float64\n",
       "Churn                object\n",
       "dtype: object"
      ]
     },
     "execution_count": 15,
     "metadata": {},
     "output_type": "execute_result"
    }
   ],
   "source": [
    "df.dtypes"
   ]
  },
  {
   "cell_type": "code",
   "execution_count": 16,
   "metadata": {},
   "outputs": [
    {
     "data": {
      "text/html": [
       "<div>\n",
       "<style scoped>\n",
       "    .dataframe tbody tr th:only-of-type {\n",
       "        vertical-align: middle;\n",
       "    }\n",
       "\n",
       "    .dataframe tbody tr th {\n",
       "        vertical-align: top;\n",
       "    }\n",
       "\n",
       "    .dataframe thead th {\n",
       "        text-align: right;\n",
       "    }\n",
       "</style>\n",
       "<table border=\"1\" class=\"dataframe\">\n",
       "  <thead>\n",
       "    <tr style=\"text-align: right;\">\n",
       "      <th></th>\n",
       "      <th>SeniorCitizen</th>\n",
       "      <th>tenure</th>\n",
       "      <th>MonthlyCharges</th>\n",
       "      <th>TotalCharges</th>\n",
       "    </tr>\n",
       "  </thead>\n",
       "  <tbody>\n",
       "    <tr>\n",
       "      <th>count</th>\n",
       "      <td>5986.000000</td>\n",
       "      <td>5986.000000</td>\n",
       "      <td>5986.000000</td>\n",
       "      <td>5986.000000</td>\n",
       "    </tr>\n",
       "    <tr>\n",
       "      <th>mean</th>\n",
       "      <td>0.161377</td>\n",
       "      <td>32.468760</td>\n",
       "      <td>64.802213</td>\n",
       "      <td>2294.221559</td>\n",
       "    </tr>\n",
       "    <tr>\n",
       "      <th>std</th>\n",
       "      <td>0.367909</td>\n",
       "      <td>24.516391</td>\n",
       "      <td>30.114702</td>\n",
       "      <td>2274.164124</td>\n",
       "    </tr>\n",
       "    <tr>\n",
       "      <th>min</th>\n",
       "      <td>0.000000</td>\n",
       "      <td>0.000000</td>\n",
       "      <td>18.250000</td>\n",
       "      <td>0.000000</td>\n",
       "    </tr>\n",
       "    <tr>\n",
       "      <th>25%</th>\n",
       "      <td>0.000000</td>\n",
       "      <td>9.000000</td>\n",
       "      <td>35.650000</td>\n",
       "      <td>401.587500</td>\n",
       "    </tr>\n",
       "    <tr>\n",
       "      <th>50%</th>\n",
       "      <td>0.000000</td>\n",
       "      <td>29.000000</td>\n",
       "      <td>70.400000</td>\n",
       "      <td>1408.575000</td>\n",
       "    </tr>\n",
       "    <tr>\n",
       "      <th>75%</th>\n",
       "      <td>0.000000</td>\n",
       "      <td>56.000000</td>\n",
       "      <td>89.900000</td>\n",
       "      <td>3841.500000</td>\n",
       "    </tr>\n",
       "    <tr>\n",
       "      <th>max</th>\n",
       "      <td>1.000000</td>\n",
       "      <td>72.000000</td>\n",
       "      <td>118.750000</td>\n",
       "      <td>8684.800000</td>\n",
       "    </tr>\n",
       "  </tbody>\n",
       "</table>\n",
       "</div>"
      ],
      "text/plain": [
       "       SeniorCitizen       tenure  MonthlyCharges  TotalCharges\n",
       "count    5986.000000  5986.000000     5986.000000   5986.000000\n",
       "mean        0.161377    32.468760       64.802213   2294.221559\n",
       "std         0.367909    24.516391       30.114702   2274.164124\n",
       "min         0.000000     0.000000       18.250000      0.000000\n",
       "25%         0.000000     9.000000       35.650000    401.587500\n",
       "50%         0.000000    29.000000       70.400000   1408.575000\n",
       "75%         0.000000    56.000000       89.900000   3841.500000\n",
       "max         1.000000    72.000000      118.750000   8684.800000"
      ]
     },
     "execution_count": 16,
     "metadata": {},
     "output_type": "execute_result"
    }
   ],
   "source": [
    "df.describe()"
   ]
  },
  {
   "cell_type": "markdown",
   "metadata": {},
   "source": [
    "#### Рассмотрим количество действующих и ушедших клиентов."
   ]
  },
  {
   "cell_type": "code",
   "execution_count": 17,
   "metadata": {},
   "outputs": [],
   "source": [
    "y_n={'Yes':1, 'No':0}\n",
    "df['Churn'] = df['Churn'].map(y_n)"
   ]
  },
  {
   "cell_type": "code",
   "execution_count": 18,
   "metadata": {},
   "outputs": [
    {
     "data": {
      "text/html": [
       "<div>\n",
       "<style scoped>\n",
       "    .dataframe tbody tr th:only-of-type {\n",
       "        vertical-align: middle;\n",
       "    }\n",
       "\n",
       "    .dataframe tbody tr th {\n",
       "        vertical-align: top;\n",
       "    }\n",
       "\n",
       "    .dataframe thead th {\n",
       "        text-align: right;\n",
       "    }\n",
       "</style>\n",
       "<table border=\"1\" class=\"dataframe\">\n",
       "  <thead>\n",
       "    <tr style=\"text-align: right;\">\n",
       "      <th></th>\n",
       "      <th>Churn</th>\n",
       "      <th>customerID</th>\n",
       "    </tr>\n",
       "  </thead>\n",
       "  <tbody>\n",
       "    <tr>\n",
       "      <th>0</th>\n",
       "      <td>0</td>\n",
       "      <td>4399</td>\n",
       "    </tr>\n",
       "    <tr>\n",
       "      <th>1</th>\n",
       "      <td>1</td>\n",
       "      <td>1587</td>\n",
       "    </tr>\n",
       "  </tbody>\n",
       "</table>\n",
       "</div>"
      ],
      "text/plain": [
       "   Churn  customerID\n",
       "0      0        4399\n",
       "1      1        1587"
      ]
     },
     "execution_count": 18,
     "metadata": {},
     "output_type": "execute_result"
    }
   ],
   "source": [
    "df.groupby('Churn', as_index=False)[['customerID']].count()"
   ]
  },
  {
   "cell_type": "code",
   "execution_count": 19,
   "metadata": {},
   "outputs": [
    {
     "name": "stdout",
     "output_type": "stream",
     "text": [
      "Ушедших клиентов:  27 %\n"
     ]
    }
   ],
   "source": [
    "# Процентное содержание ушедших клиентов\n",
    "print('Ушедших клиентов: ', round(df['Churn'].mean()*100), '%')"
   ]
  },
  {
   "cell_type": "markdown",
   "metadata": {
    "id": "TDUhZEKyVYSN"
   },
   "source": [
    "# 2. Исследование зависимостей и формулирование гипотез"
   ]
  },
  {
   "cell_type": "markdown",
   "metadata": {},
   "source": [
    "### 1) Расмсотрим фичи в зависимости от оттока клиентов"
   ]
  },
  {
   "cell_type": "markdown",
   "metadata": {},
   "source": [
    "**Распределение по полу, возрасту и наличию партнера.**"
   ]
  },
  {
   "cell_type": "code",
   "execution_count": 20,
   "metadata": {},
   "outputs": [
    {
     "data": {
      "text/html": [
       "<div>\n",
       "<style scoped>\n",
       "    .dataframe tbody tr th:only-of-type {\n",
       "        vertical-align: middle;\n",
       "    }\n",
       "\n",
       "    .dataframe tbody tr th {\n",
       "        vertical-align: top;\n",
       "    }\n",
       "\n",
       "    .dataframe thead th {\n",
       "        text-align: right;\n",
       "    }\n",
       "</style>\n",
       "<table border=\"1\" class=\"dataframe\">\n",
       "  <thead>\n",
       "    <tr style=\"text-align: right;\">\n",
       "      <th></th>\n",
       "      <th>gender</th>\n",
       "      <th>SeniorCitizen</th>\n",
       "      <th>Partner</th>\n",
       "      <th>customerID</th>\n",
       "      <th>Churn</th>\n",
       "    </tr>\n",
       "  </thead>\n",
       "  <tbody>\n",
       "    <tr>\n",
       "      <th>0</th>\n",
       "      <td>Female</td>\n",
       "      <td>0</td>\n",
       "      <td>No</td>\n",
       "      <td>1233</td>\n",
       "      <td>0.309002</td>\n",
       "    </tr>\n",
       "    <tr>\n",
       "      <th>1</th>\n",
       "      <td>Female</td>\n",
       "      <td>0</td>\n",
       "      <td>Yes</td>\n",
       "      <td>1221</td>\n",
       "      <td>0.167076</td>\n",
       "    </tr>\n",
       "    <tr>\n",
       "      <th>2</th>\n",
       "      <td>Female</td>\n",
       "      <td>1</td>\n",
       "      <td>No</td>\n",
       "      <td>267</td>\n",
       "      <td>0.501873</td>\n",
       "    </tr>\n",
       "    <tr>\n",
       "      <th>3</th>\n",
       "      <td>Female</td>\n",
       "      <td>1</td>\n",
       "      <td>Yes</td>\n",
       "      <td>215</td>\n",
       "      <td>0.334884</td>\n",
       "    </tr>\n",
       "    <tr>\n",
       "      <th>4</th>\n",
       "      <td>Male</td>\n",
       "      <td>0</td>\n",
       "      <td>No</td>\n",
       "      <td>1368</td>\n",
       "      <td>0.289474</td>\n",
       "    </tr>\n",
       "    <tr>\n",
       "      <th>5</th>\n",
       "      <td>Male</td>\n",
       "      <td>0</td>\n",
       "      <td>Yes</td>\n",
       "      <td>1198</td>\n",
       "      <td>0.170284</td>\n",
       "    </tr>\n",
       "    <tr>\n",
       "      <th>6</th>\n",
       "      <td>Male</td>\n",
       "      <td>1</td>\n",
       "      <td>No</td>\n",
       "      <td>214</td>\n",
       "      <td>0.467290</td>\n",
       "    </tr>\n",
       "    <tr>\n",
       "      <th>7</th>\n",
       "      <td>Male</td>\n",
       "      <td>1</td>\n",
       "      <td>Yes</td>\n",
       "      <td>270</td>\n",
       "      <td>0.355556</td>\n",
       "    </tr>\n",
       "  </tbody>\n",
       "</table>\n",
       "</div>"
      ],
      "text/plain": [
       "   gender  SeniorCitizen Partner  customerID     Churn\n",
       "0  Female              0      No        1233  0.309002\n",
       "1  Female              0     Yes        1221  0.167076\n",
       "2  Female              1      No         267  0.501873\n",
       "3  Female              1     Yes         215  0.334884\n",
       "4    Male              0      No        1368  0.289474\n",
       "5    Male              0     Yes        1198  0.170284\n",
       "6    Male              1      No         214  0.467290\n",
       "7    Male              1     Yes         270  0.355556"
      ]
     },
     "execution_count": 20,
     "metadata": {},
     "output_type": "execute_result"
    }
   ],
   "source": [
    "df.groupby(['gender', 'SeniorCitizen', 'Partner'], as_index=False)[['customerID', 'Churn']].\\\n",
    "agg({'customerID':'count', 'Churn':'mean'})"
   ]
  },
  {
   "cell_type": "code",
   "execution_count": 21,
   "metadata": {},
   "outputs": [
    {
     "data": {
      "image/png": "[encoded data removed]",
      "text/plain": [
       "<Figure size 432x288 with 1 Axes>"
      ]
     },
     "metadata": {},
     "output_type": "display_data"
    }
   ],
   "source": [
    "plt.bar(height=df.groupby(['gender', 'SeniorCitizen', 'Partner'], as_index=False)[['customerID', 'Churn']].\\\n",
    "agg({'customerID':'count', 'Churn':'mean'}).Churn, x=df.groupby(['gender', 'SeniorCitizen', 'Partner'], as_index=False)[['customerID', 'Churn']].\\\n",
    "agg({'customerID':'count', 'Churn':'mean'}).index)\n",
    "plt.show()"
   ]
  },
  {
   "cell_type": "markdown",
   "metadata": {},
   "source": [
    "Заметим, что распределение среди ушедших мужчин и женщин почти одинаковое, независимо от возраста и наличия партнера."
   ]
  },
  {
   "cell_type": "markdown",
   "metadata": {},
   "source": [
    "**Распределение по параметру, есть ли у клиента еждивенцы.**"
   ]
  },
  {
   "cell_type": "code",
   "execution_count": 22,
   "metadata": {},
   "outputs": [
    {
     "data": {
      "text/html": [
       "<div>\n",
       "<style scoped>\n",
       "    .dataframe tbody tr th:only-of-type {\n",
       "        vertical-align: middle;\n",
       "    }\n",
       "\n",
       "    .dataframe tbody tr th {\n",
       "        vertical-align: top;\n",
       "    }\n",
       "\n",
       "    .dataframe thead th {\n",
       "        text-align: right;\n",
       "    }\n",
       "</style>\n",
       "<table border=\"1\" class=\"dataframe\">\n",
       "  <thead>\n",
       "    <tr style=\"text-align: right;\">\n",
       "      <th></th>\n",
       "      <th>Dependents</th>\n",
       "      <th>customerID</th>\n",
       "      <th>Churn</th>\n",
       "    </tr>\n",
       "  </thead>\n",
       "  <tbody>\n",
       "    <tr>\n",
       "      <th>0</th>\n",
       "      <td>No</td>\n",
       "      <td>4195</td>\n",
       "      <td>0.311323</td>\n",
       "    </tr>\n",
       "    <tr>\n",
       "      <th>1</th>\n",
       "      <td>Yes</td>\n",
       "      <td>1791</td>\n",
       "      <td>0.156896</td>\n",
       "    </tr>\n",
       "  </tbody>\n",
       "</table>\n",
       "</div>"
      ],
      "text/plain": [
       "  Dependents  customerID     Churn\n",
       "0         No        4195  0.311323\n",
       "1        Yes        1791  0.156896"
      ]
     },
     "execution_count": 22,
     "metadata": {},
     "output_type": "execute_result"
    }
   ],
   "source": [
    "df.groupby(['Dependents'], as_index=False)[['customerID', 'Churn']].\\\n",
    "agg({'customerID':'count', 'Churn':'mean'})"
   ]
  },
  {
   "cell_type": "markdown",
   "metadata": {},
   "source": [
    "Люди без еждивенцов уходят в два раза чаще. Видимо им легче сделать такой выбор."
   ]
  },
  {
   "cell_type": "markdown",
   "metadata": {},
   "source": [
    "**Распределение по услуге PhoneService.**"
   ]
  },
  {
   "cell_type": "code",
   "execution_count": 23,
   "metadata": {},
   "outputs": [
    {
     "data": {
      "text/html": [
       "<div>\n",
       "<style scoped>\n",
       "    .dataframe tbody tr th:only-of-type {\n",
       "        vertical-align: middle;\n",
       "    }\n",
       "\n",
       "    .dataframe tbody tr th {\n",
       "        vertical-align: top;\n",
       "    }\n",
       "\n",
       "    .dataframe thead th {\n",
       "        text-align: right;\n",
       "    }\n",
       "</style>\n",
       "<table border=\"1\" class=\"dataframe\">\n",
       "  <thead>\n",
       "    <tr style=\"text-align: right;\">\n",
       "      <th></th>\n",
       "      <th>PhoneService</th>\n",
       "      <th>customerID</th>\n",
       "      <th>Churn</th>\n",
       "    </tr>\n",
       "  </thead>\n",
       "  <tbody>\n",
       "    <tr>\n",
       "      <th>0</th>\n",
       "      <td>No</td>\n",
       "      <td>590</td>\n",
       "      <td>0.252542</td>\n",
       "    </tr>\n",
       "    <tr>\n",
       "      <th>1</th>\n",
       "      <td>Yes</td>\n",
       "      <td>5396</td>\n",
       "      <td>0.266494</td>\n",
       "    </tr>\n",
       "  </tbody>\n",
       "</table>\n",
       "</div>"
      ],
      "text/plain": [
       "  PhoneService  customerID     Churn\n",
       "0           No         590  0.252542\n",
       "1          Yes        5396  0.266494"
      ]
     },
     "execution_count": 23,
     "metadata": {},
     "output_type": "execute_result"
    }
   ],
   "source": [
    "df.groupby(['PhoneService'], as_index=False)[['customerID', 'Churn']].\\\n",
    "agg({'customerID':'count', 'Churn':'mean'})"
   ]
  },
  {
   "cell_type": "markdown",
   "metadata": {},
   "source": [
    "Распределние одинковое."
   ]
  },
  {
   "cell_type": "markdown",
   "metadata": {},
   "source": [
    "**Распределение по услуге InternetService.**"
   ]
  },
  {
   "cell_type": "code",
   "execution_count": 24,
   "metadata": {},
   "outputs": [
    {
     "data": {
      "text/html": [
       "<div>\n",
       "<style scoped>\n",
       "    .dataframe tbody tr th:only-of-type {\n",
       "        vertical-align: middle;\n",
       "    }\n",
       "\n",
       "    .dataframe tbody tr th {\n",
       "        vertical-align: top;\n",
       "    }\n",
       "\n",
       "    .dataframe thead th {\n",
       "        text-align: right;\n",
       "    }\n",
       "</style>\n",
       "<table border=\"1\" class=\"dataframe\">\n",
       "  <thead>\n",
       "    <tr style=\"text-align: right;\">\n",
       "      <th></th>\n",
       "      <th>InternetService</th>\n",
       "      <th>customerID</th>\n",
       "      <th>Churn</th>\n",
       "    </tr>\n",
       "  </thead>\n",
       "  <tbody>\n",
       "    <tr>\n",
       "      <th>0</th>\n",
       "      <td>DSL</td>\n",
       "      <td>2068</td>\n",
       "      <td>0.191973</td>\n",
       "    </tr>\n",
       "    <tr>\n",
       "      <th>1</th>\n",
       "      <td>Fiber optic</td>\n",
       "      <td>2627</td>\n",
       "      <td>0.415303</td>\n",
       "    </tr>\n",
       "    <tr>\n",
       "      <th>2</th>\n",
       "      <td>No</td>\n",
       "      <td>1291</td>\n",
       "      <td>0.076685</td>\n",
       "    </tr>\n",
       "  </tbody>\n",
       "</table>\n",
       "</div>"
      ],
      "text/plain": [
       "  InternetService  customerID     Churn\n",
       "0             DSL        2068  0.191973\n",
       "1     Fiber optic        2627  0.415303\n",
       "2              No        1291  0.076685"
      ]
     },
     "execution_count": 24,
     "metadata": {},
     "output_type": "execute_result"
    }
   ],
   "source": [
    "df.groupby(['InternetService'], as_index=False)[['customerID', 'Churn']].\\\n",
    "agg({'customerID':'count', 'Churn':'mean'})"
   ]
  },
  {
   "cell_type": "code",
   "execution_count": 25,
   "metadata": {},
   "outputs": [
    {
     "name": "stdout",
     "output_type": "stream",
     "text": [
      "Средня стоимость интернета Fiber optic:  91.55437761705349\n",
      "Средня стоимость интернета DSL:  58.10587524177949\n",
      "Соотношение средней цены Fiber optic/DSL:  1.575647509586496\n"
     ]
    }
   ],
   "source": [
    "print('Средня стоимость интернета Fiber optic: ', (df[df['InternetService']=='Fiber optic'].MonthlyCharges.mean()))\n",
    "print('Средня стоимость интернета DSL: ', (df[df['InternetService']=='DSL'].MonthlyCharges.mean()))\n",
    "print('Соотношение средней цены Fiber optic/DSL: ', (df[df['InternetService']=='Fiber optic'].MonthlyCharges.mean())/(df[df['InternetService']=='DSL'].MonthlyCharges.mean()))"
   ]
  },
  {
   "cell_type": "code",
   "execution_count": 26,
   "metadata": {},
   "outputs": [
    {
     "data": {
      "text/plain": [
       "<AxesSubplot:xlabel='MonthlyCharges', ylabel='Count'>"
      ]
     },
     "execution_count": 26,
     "metadata": {},
     "output_type": "execute_result"
    },
    {
     "data": {
      "image/png": "[encoded data removed]",
      "text/plain": [
       "<Figure size 432x288 with 1 Axes>"
      ]
     },
     "metadata": {},
     "output_type": "display_data"
    }
   ],
   "source": [
    "sns.histplot(data=df, x='MonthlyCharges', hue='InternetService', element=\"poly\")"
   ]
  },
  {
   "cell_type": "markdown",
   "metadata": {},
   "source": [
    "Более 40% людей с интернетом типа Fiber optic отключились от провайдера. <br>\n",
    "Можно выделить две причины, на которые стоит обратить внимание: <br>\n",
    "1) Качество интрента типа Fiber optic, возможно провести работы по улучшению стабильности работы. <br>\n",
    "2) Стоимость услуг интернета типа Fiber optic в сравнении с другими провайдерами. <br>\n"
   ]
  },
  {
   "cell_type": "markdown",
   "metadata": {},
   "source": [
    "**Распределение по типу контракта.**"
   ]
  },
  {
   "cell_type": "code",
   "execution_count": 27,
   "metadata": {},
   "outputs": [
    {
     "data": {
      "text/html": [
       "<div>\n",
       "<style scoped>\n",
       "    .dataframe tbody tr th:only-of-type {\n",
       "        vertical-align: middle;\n",
       "    }\n",
       "\n",
       "    .dataframe tbody tr th {\n",
       "        vertical-align: top;\n",
       "    }\n",
       "\n",
       "    .dataframe thead th {\n",
       "        text-align: right;\n",
       "    }\n",
       "</style>\n",
       "<table border=\"1\" class=\"dataframe\">\n",
       "  <thead>\n",
       "    <tr style=\"text-align: right;\">\n",
       "      <th></th>\n",
       "      <th>Contract</th>\n",
       "      <th>customerID</th>\n",
       "      <th>Churn</th>\n",
       "    </tr>\n",
       "  </thead>\n",
       "  <tbody>\n",
       "    <tr>\n",
       "      <th>0</th>\n",
       "      <td>Month-to-month</td>\n",
       "      <td>3269</td>\n",
       "      <td>0.427654</td>\n",
       "    </tr>\n",
       "    <tr>\n",
       "      <th>1</th>\n",
       "      <td>One year</td>\n",
       "      <td>1276</td>\n",
       "      <td>0.115987</td>\n",
       "    </tr>\n",
       "    <tr>\n",
       "      <th>2</th>\n",
       "      <td>Two year</td>\n",
       "      <td>1441</td>\n",
       "      <td>0.028452</td>\n",
       "    </tr>\n",
       "  </tbody>\n",
       "</table>\n",
       "</div>"
      ],
      "text/plain": [
       "         Contract  customerID     Churn\n",
       "0  Month-to-month        3269  0.427654\n",
       "1        One year        1276  0.115987\n",
       "2        Two year        1441  0.028452"
      ]
     },
     "execution_count": 27,
     "metadata": {},
     "output_type": "execute_result"
    }
   ],
   "source": [
    "df.groupby(['Contract'], as_index=False)[['customerID', 'Churn']].\\\n",
    "agg({'customerID':'count', 'Churn':'mean'})"
   ]
  },
  {
   "cell_type": "markdown",
   "metadata": {},
   "source": [
    "Более 40% ушедших людей заключали договор с помесячной оплатой. <br>\n",
    "Из-за этого им проще сделать шаг в сторону другого провайдера в любое время."
   ]
  },
  {
   "cell_type": "markdown",
   "metadata": {},
   "source": [
    "**Распределение по методу оплаты.**"
   ]
  },
  {
   "cell_type": "code",
   "execution_count": 28,
   "metadata": {},
   "outputs": [
    {
     "data": {
      "text/html": [
       "<div>\n",
       "<style scoped>\n",
       "    .dataframe tbody tr th:only-of-type {\n",
       "        vertical-align: middle;\n",
       "    }\n",
       "\n",
       "    .dataframe tbody tr th {\n",
       "        vertical-align: top;\n",
       "    }\n",
       "\n",
       "    .dataframe thead th {\n",
       "        text-align: right;\n",
       "    }\n",
       "</style>\n",
       "<table border=\"1\" class=\"dataframe\">\n",
       "  <thead>\n",
       "    <tr style=\"text-align: right;\">\n",
       "      <th></th>\n",
       "      <th>PaymentMethod</th>\n",
       "      <th>customerID</th>\n",
       "      <th>Churn</th>\n",
       "    </tr>\n",
       "  </thead>\n",
       "  <tbody>\n",
       "    <tr>\n",
       "      <th>0</th>\n",
       "      <td>Bank transfer (automatic)</td>\n",
       "      <td>1308</td>\n",
       "      <td>0.171254</td>\n",
       "    </tr>\n",
       "    <tr>\n",
       "      <th>1</th>\n",
       "      <td>Credit card (automatic)</td>\n",
       "      <td>1303</td>\n",
       "      <td>0.151957</td>\n",
       "    </tr>\n",
       "    <tr>\n",
       "      <th>2</th>\n",
       "      <td>Electronic check</td>\n",
       "      <td>2006</td>\n",
       "      <td>0.449651</td>\n",
       "    </tr>\n",
       "    <tr>\n",
       "      <th>3</th>\n",
       "      <td>Mailed check</td>\n",
       "      <td>1369</td>\n",
       "      <td>0.192111</td>\n",
       "    </tr>\n",
       "  </tbody>\n",
       "</table>\n",
       "</div>"
      ],
      "text/plain": [
       "               PaymentMethod  customerID     Churn\n",
       "0  Bank transfer (automatic)        1308  0.171254\n",
       "1    Credit card (automatic)        1303  0.151957\n",
       "2           Electronic check        2006  0.449651\n",
       "3               Mailed check        1369  0.192111"
      ]
     },
     "execution_count": 28,
     "metadata": {},
     "output_type": "execute_result"
    }
   ],
   "source": [
    "df.groupby(['PaymentMethod'], as_index=False)[['customerID', 'Churn']].\\\n",
    "agg({'customerID':'count', 'Churn':'mean'})"
   ]
  },
  {
   "cell_type": "markdown",
   "metadata": {},
   "source": [
    "Более 40% ушедших людей для оплаты пользовались электронным чеком. <br>\n",
    "Компании стоит обратить внимание на проблемы с таким способом оплаты. Вероятно деньги поступают на счет компании с задержкой и у клиентов происходит отключение интернета, хоть они и оплатили."
   ]
  },
  {
   "cell_type": "markdown",
   "metadata": {},
   "source": [
    "**Распределение по сроку использования провайдера клиентами.**"
   ]
  },
  {
   "cell_type": "code",
   "execution_count": 29,
   "metadata": {},
   "outputs": [
    {
     "data": {
      "image/png": "[encoded data removed]",
      "text/plain": [
       "<Figure size 432x288 with 1 Axes>"
      ]
     },
     "metadata": {},
     "output_type": "display_data"
    }
   ],
   "source": [
    "sns.histplot(df.tenure, kde=True)\n",
    "plt.grid()"
   ]
  },
  {
   "cell_type": "code",
   "execution_count": 30,
   "metadata": {},
   "outputs": [
    {
     "data": {
      "text/html": [
       "<div>\n",
       "<style scoped>\n",
       "    .dataframe tbody tr th:only-of-type {\n",
       "        vertical-align: middle;\n",
       "    }\n",
       "\n",
       "    .dataframe tbody tr th {\n",
       "        vertical-align: top;\n",
       "    }\n",
       "\n",
       "    .dataframe thead th {\n",
       "        text-align: right;\n",
       "    }\n",
       "</style>\n",
       "<table border=\"1\" class=\"dataframe\">\n",
       "  <thead>\n",
       "    <tr style=\"text-align: right;\">\n",
       "      <th></th>\n",
       "      <th>Categoricaltenure</th>\n",
       "      <th>Churn</th>\n",
       "    </tr>\n",
       "  </thead>\n",
       "  <tbody>\n",
       "    <tr>\n",
       "      <th>0</th>\n",
       "      <td>(-0.072, 18.0]</td>\n",
       "      <td>0.441023</td>\n",
       "    </tr>\n",
       "    <tr>\n",
       "      <th>1</th>\n",
       "      <td>(18.0, 36.0]</td>\n",
       "      <td>0.227961</td>\n",
       "    </tr>\n",
       "    <tr>\n",
       "      <th>2</th>\n",
       "      <td>(36.0, 54.0]</td>\n",
       "      <td>0.188623</td>\n",
       "    </tr>\n",
       "    <tr>\n",
       "      <th>3</th>\n",
       "      <td>(54.0, 72.0]</td>\n",
       "      <td>0.080386</td>\n",
       "    </tr>\n",
       "  </tbody>\n",
       "</table>\n",
       "</div>"
      ],
      "text/plain": [
       "  Categoricaltenure     Churn\n",
       "0    (-0.072, 18.0]  0.441023\n",
       "1      (18.0, 36.0]  0.227961\n",
       "2      (36.0, 54.0]  0.188623\n",
       "3      (54.0, 72.0]  0.080386"
      ]
     },
     "execution_count": 30,
     "metadata": {},
     "output_type": "execute_result"
    }
   ],
   "source": [
    "df['Categoricaltenure'] = pd.cut(df['tenure'], 4)\n",
    "df[['Categoricaltenure', 'Churn']].groupby(['Categoricaltenure'], as_index=False).mean()"
   ]
  },
  {
   "cell_type": "markdown",
   "metadata": {},
   "source": [
    "Заметим, что основнной отток клиентов происходит в первые полтора года."
   ]
  },
  {
   "cell_type": "markdown",
   "metadata": {},
   "source": [
    "**Распределение по месяцной оплате.**"
   ]
  },
  {
   "cell_type": "code",
   "execution_count": 31,
   "metadata": {},
   "outputs": [
    {
     "data": {
      "image/png": "[encoded data removed]",
      "text/plain": [
       "<Figure size 432x288 with 1 Axes>"
      ]
     },
     "metadata": {},
     "output_type": "display_data"
    }
   ],
   "source": [
    "sns.histplot(df.MonthlyCharges, kde=True)\n",
    "plt.grid()"
   ]
  },
  {
   "cell_type": "code",
   "execution_count": 32,
   "metadata": {},
   "outputs": [
    {
     "data": {
      "text/html": [
       "<div>\n",
       "<style scoped>\n",
       "    .dataframe tbody tr th:only-of-type {\n",
       "        vertical-align: middle;\n",
       "    }\n",
       "\n",
       "    .dataframe tbody tr th {\n",
       "        vertical-align: top;\n",
       "    }\n",
       "\n",
       "    .dataframe thead th {\n",
       "        text-align: right;\n",
       "    }\n",
       "</style>\n",
       "<table border=\"1\" class=\"dataframe\">\n",
       "  <thead>\n",
       "    <tr style=\"text-align: right;\">\n",
       "      <th></th>\n",
       "      <th>CategoricalMonthlyCharges</th>\n",
       "      <th>Churn</th>\n",
       "    </tr>\n",
       "  </thead>\n",
       "  <tbody>\n",
       "    <tr>\n",
       "      <th>0</th>\n",
       "      <td>(18.15, 43.375]</td>\n",
       "      <td>0.128094</td>\n",
       "    </tr>\n",
       "    <tr>\n",
       "      <th>1</th>\n",
       "      <td>(43.375, 68.5]</td>\n",
       "      <td>0.216867</td>\n",
       "    </tr>\n",
       "    <tr>\n",
       "      <th>2</th>\n",
       "      <td>(68.5, 93.625]</td>\n",
       "      <td>0.359423</td>\n",
       "    </tr>\n",
       "    <tr>\n",
       "      <th>3</th>\n",
       "      <td>(93.625, 118.75]</td>\n",
       "      <td>0.339652</td>\n",
       "    </tr>\n",
       "  </tbody>\n",
       "</table>\n",
       "</div>"
      ],
      "text/plain": [
       "  CategoricalMonthlyCharges     Churn\n",
       "0           (18.15, 43.375]  0.128094\n",
       "1            (43.375, 68.5]  0.216867\n",
       "2            (68.5, 93.625]  0.359423\n",
       "3          (93.625, 118.75]  0.339652"
      ]
     },
     "execution_count": 32,
     "metadata": {},
     "output_type": "execute_result"
    }
   ],
   "source": [
    "df['CategoricalMonthlyCharges'] = pd.cut(df['MonthlyCharges'], 4)\n",
    "df[['CategoricalMonthlyCharges', 'Churn']].groupby(['CategoricalMonthlyCharges'], as_index=False).mean()"
   ]
  },
  {
   "cell_type": "markdown",
   "metadata": {},
   "source": [
    "В основном отток лиентов происходит при стоимости в месяц более 68 долларов. "
   ]
  },
  {
   "cell_type": "code",
   "execution_count": 33,
   "metadata": {},
   "outputs": [
    {
     "data": {
      "text/html": [
       "<div>\n",
       "<style scoped>\n",
       "    .dataframe tbody tr th:only-of-type {\n",
       "        vertical-align: middle;\n",
       "    }\n",
       "\n",
       "    .dataframe tbody tr th {\n",
       "        vertical-align: top;\n",
       "    }\n",
       "\n",
       "    .dataframe thead th {\n",
       "        text-align: right;\n",
       "    }\n",
       "</style>\n",
       "<table border=\"1\" class=\"dataframe\">\n",
       "  <thead>\n",
       "    <tr style=\"text-align: right;\">\n",
       "      <th></th>\n",
       "      <th>MonthlyCharges</th>\n",
       "      <th>TotalCharges</th>\n",
       "    </tr>\n",
       "  </thead>\n",
       "  <tbody>\n",
       "    <tr>\n",
       "      <th>count</th>\n",
       "      <td>5986.000000</td>\n",
       "      <td>5986.000000</td>\n",
       "    </tr>\n",
       "    <tr>\n",
       "      <th>mean</th>\n",
       "      <td>64.802213</td>\n",
       "      <td>2294.221559</td>\n",
       "    </tr>\n",
       "    <tr>\n",
       "      <th>std</th>\n",
       "      <td>30.114702</td>\n",
       "      <td>2274.164124</td>\n",
       "    </tr>\n",
       "    <tr>\n",
       "      <th>min</th>\n",
       "      <td>18.250000</td>\n",
       "      <td>0.000000</td>\n",
       "    </tr>\n",
       "    <tr>\n",
       "      <th>25%</th>\n",
       "      <td>35.650000</td>\n",
       "      <td>401.587500</td>\n",
       "    </tr>\n",
       "    <tr>\n",
       "      <th>50%</th>\n",
       "      <td>70.400000</td>\n",
       "      <td>1408.575000</td>\n",
       "    </tr>\n",
       "    <tr>\n",
       "      <th>75%</th>\n",
       "      <td>89.900000</td>\n",
       "      <td>3841.500000</td>\n",
       "    </tr>\n",
       "    <tr>\n",
       "      <th>max</th>\n",
       "      <td>118.750000</td>\n",
       "      <td>8684.800000</td>\n",
       "    </tr>\n",
       "  </tbody>\n",
       "</table>\n",
       "</div>"
      ],
      "text/plain": [
       "       MonthlyCharges  TotalCharges\n",
       "count     5986.000000   5986.000000\n",
       "mean        64.802213   2294.221559\n",
       "std         30.114702   2274.164124\n",
       "min         18.250000      0.000000\n",
       "25%         35.650000    401.587500\n",
       "50%         70.400000   1408.575000\n",
       "75%         89.900000   3841.500000\n",
       "max        118.750000   8684.800000"
      ]
     },
     "execution_count": 33,
     "metadata": {},
     "output_type": "execute_result"
    }
   ],
   "source": [
    "df[['MonthlyCharges', 'TotalCharges']].describe()"
   ]
  },
  {
   "cell_type": "markdown",
   "metadata": {},
   "source": [
    "**Распределение по общей сумме заплаченой клиентом.**"
   ]
  },
  {
   "cell_type": "code",
   "execution_count": 34,
   "metadata": {},
   "outputs": [
    {
     "data": {
      "text/html": [
       "<div>\n",
       "<style scoped>\n",
       "    .dataframe tbody tr th:only-of-type {\n",
       "        vertical-align: middle;\n",
       "    }\n",
       "\n",
       "    .dataframe tbody tr th {\n",
       "        vertical-align: top;\n",
       "    }\n",
       "\n",
       "    .dataframe thead th {\n",
       "        text-align: right;\n",
       "    }\n",
       "</style>\n",
       "<table border=\"1\" class=\"dataframe\">\n",
       "  <thead>\n",
       "    <tr style=\"text-align: right;\">\n",
       "      <th></th>\n",
       "      <th>CategoricalTotalCharges</th>\n",
       "      <th>Churn</th>\n",
       "    </tr>\n",
       "  </thead>\n",
       "  <tbody>\n",
       "    <tr>\n",
       "      <th>0</th>\n",
       "      <td>(-8.685, 2171.2]</td>\n",
       "      <td>0.316338</td>\n",
       "    </tr>\n",
       "    <tr>\n",
       "      <th>1</th>\n",
       "      <td>(2171.2, 4342.4]</td>\n",
       "      <td>0.228332</td>\n",
       "    </tr>\n",
       "    <tr>\n",
       "      <th>2</th>\n",
       "      <td>(4342.4, 6513.6]</td>\n",
       "      <td>0.165083</td>\n",
       "    </tr>\n",
       "    <tr>\n",
       "      <th>3</th>\n",
       "      <td>(6513.6, 8684.8]</td>\n",
       "      <td>0.115839</td>\n",
       "    </tr>\n",
       "  </tbody>\n",
       "</table>\n",
       "</div>"
      ],
      "text/plain": [
       "  CategoricalTotalCharges     Churn\n",
       "0        (-8.685, 2171.2]  0.316338\n",
       "1        (2171.2, 4342.4]  0.228332\n",
       "2        (4342.4, 6513.6]  0.165083\n",
       "3        (6513.6, 8684.8]  0.115839"
      ]
     },
     "execution_count": 34,
     "metadata": {},
     "output_type": "execute_result"
    },
    {
     "data": {
      "image/png": "[encoded data removed]",
      "text/plain": [
       "<Figure size 432x288 with 1 Axes>"
      ]
     },
     "metadata": {},
     "output_type": "display_data"
    }
   ],
   "source": [
    "sns.histplot(df.TotalCharges, kde=True)\n",
    "plt.grid()\n",
    "df['CategoricalTotalCharges'] = pd.cut(df['TotalCharges'], 4)\n",
    "df[['CategoricalTotalCharges', 'Churn']].groupby(['CategoricalTotalCharges'], as_index=False).mean()"
   ]
  },
  {
   "cell_type": "code",
   "execution_count": 35,
   "metadata": {},
   "outputs": [
    {
     "name": "stderr",
     "output_type": "stream",
     "text": [
      "C:\\Users\\Alexey\\anaconda3\\lib\\site-packages\\seaborn\\axisgrid.py:2076: UserWarning: The `size` parameter has been renamed to `height`; please update your code.\n",
      "  warnings.warn(msg, UserWarning)\n"
     ]
    },
    {
     "data": {
      "text/plain": [
       "<seaborn.axisgrid.PairGrid at 0x1e16d9b4640>"
      ]
     },
     "execution_count": 35,
     "metadata": {},
     "output_type": "execute_result"
    },
    {
     "data": {
      "image/png": "[encoded data removed]",
      "text/plain": [
       "<Figure size 300.825x259.2 with 12 Axes>"
      ]
     },
     "metadata": {},
     "output_type": "display_data"
    }
   ],
   "source": [
    "g = sns.pairplot(df[['tenure','MonthlyCharges', 'TotalCharges', 'Churn']], \n",
    "                 hue='Churn', palette = 'seismic', size=1.2, plot_kws=dict(s=10))\n",
    "g.set(xticklabels=[])"
   ]
  },
  {
   "cell_type": "markdown",
   "metadata": {},
   "source": [
    "### Преобразуем данные"
   ]
  },
  {
   "cell_type": "code",
   "execution_count": 36,
   "metadata": {},
   "outputs": [],
   "source": [
    "#Сделаем резервную копию\n",
    "df_main = df.copy()"
   ]
  },
  {
   "cell_type": "markdown",
   "metadata": {},
   "source": [
    "Переведем данные категориальные и качественные в качественные в виде чисел (0, 1, ...)"
   ]
  },
  {
   "cell_type": "code",
   "execution_count": 37,
   "metadata": {},
   "outputs": [],
   "source": [
    "# Сделаем map\n",
    "y_n={'Yes':1, 'No':0}\n",
    "y_n_havenot={'Yes':1, 'No':0, 'No internet service':0}\n",
    "df_main['Partner'] = df_main['Partner'].map(y_n).astype(int)\n",
    "df_main['Dependents'] = df_main['Dependents'].map(y_n).astype(int)\n",
    "df_main['PhoneService'] = df_main['PhoneService'].map(y_n).astype(int)\n",
    "df_main['PaperlessBilling'] = df_main['PaperlessBilling'].map(y_n).astype(int)\n",
    "\n",
    "df_main['OnlineSecurity'] = df_main['OnlineSecurity'].map(y_n_havenot).astype(int)\n",
    "df_main['OnlineBackup'] = df_main['OnlineBackup'].map(y_n_havenot).astype(int)\n",
    "df_main['DeviceProtection'] = df_main['DeviceProtection'].map(y_n_havenot).astype(int)\n",
    "df_main['TechSupport'] = df_main['TechSupport'].map(y_n_havenot).astype(int)\n",
    "df_main['StreamingTV'] = df_main['StreamingTV'].map(y_n_havenot).astype(int)\n",
    "df_main['StreamingMovies'] = df_main['StreamingMovies'].map(y_n_havenot).astype(int)\n",
    "\n",
    "df_main['gender']=df_main['gender'].map({'Male':1, 'Female':2}).astype(int)\n",
    "df_main['MultipleLines']=df_main['MultipleLines'].map({'Yes':1, 'No':0, 'No phone service':0}).astype(int)\n",
    "df_main['InternetService']=df_main['InternetService'].map({'Fiber optic':3, 'DSL':2, 'No':1}).astype(int)\n",
    "df_main['Contract']=df_main['Contract'].map({'Month-to-month':1, 'One year':2, 'Two year':3}).astype(int)\n",
    "df_main['PaymentMethod']=df_main['PaymentMethod'].\\\n",
    "                                        map({'Electronic check':1, 'Mailed check':2,\\\n",
    "                                             'Bank transfer (automatic)':3, 'Credit card (automatic)':4}).astype(int)\n",
    "\n",
    "\n",
    "df_main.loc[df_main['tenure']<=18, 'tenure'] = 0\n",
    "df_main.loc[(df_main['tenure']>18) & (df_main['tenure']<=36), 'tenure'] = 1\n",
    "df_main.loc[(df_main['tenure']>36) & (df_main['tenure']<=54), 'tenure'] = 2\n",
    "df_main.loc[(df_main['tenure']>54), 'tenure'] = 3\n",
    "\n",
    "df_main.loc[df_main['MonthlyCharges']<=43.375, 'MonthlyCharges'] = 0\n",
    "df_main.loc[(df_main['MonthlyCharges']>43.375) & (df_main['MonthlyCharges']<=68.5), 'MonthlyCharges'] = 1\n",
    "df_main.loc[(df_main['MonthlyCharges']>68.5) & (df_main['MonthlyCharges']<=93.625), 'MonthlyCharges'] = 2\n",
    "df_main.loc[(df_main['MonthlyCharges']>93.625), 'MonthlyCharges'] = 3\n",
    "\n",
    "df_main.loc[df_main['TotalCharges']<=2171.2, 'TotalCharges'] = 0\n",
    "df_main.loc[(df_main['TotalCharges']>2171.2) & (df_main['TotalCharges']<=4342.4), 'TotalCharges'] = 1\n",
    "df_main.loc[(df_main['TotalCharges']>4342.4) & (df_main['TotalCharges']<=6513.6), 'TotalCharges'] = 2\n",
    "df_main.loc[(df_main['TotalCharges']>6513.6), 'TotalCharges'] = 3\n",
    "\n",
    "df_main['tenure']=df_main.tenure.astype('int')\n",
    "df_main['MonthlyCharges']=df_main.MonthlyCharges.astype('int')\n",
    "df_main['TotalCharges']=df_main.TotalCharges.astype('int')"
   ]
  },
  {
   "cell_type": "code",
   "execution_count": 38,
   "metadata": {},
   "outputs": [],
   "source": [
    "# Еще раз сделаем копию данных для быстрого сброса будующих изменений\n",
    "df_data=df_main.copy()"
   ]
  },
  {
   "cell_type": "code",
   "execution_count": 39,
   "metadata": {},
   "outputs": [],
   "source": [
    "#Удаляем столбцы, которые не понадобятся для классификации.\n",
    "df_data.drop(['customerID', 'Categoricaltenure', 'CategoricalMonthlyCharges', 'CategoricalTotalCharges'], axis=1, inplace=True)"
   ]
  },
  {
   "cell_type": "code",
   "execution_count": 40,
   "metadata": {},
   "outputs": [
    {
     "data": {
      "text/plain": [
       "<AxesSubplot:title={'center':'Pearson Correlation of Features'}>"
      ]
     },
     "execution_count": 40,
     "metadata": {},
     "output_type": "execute_result"
    },
    {
     "data": {
      "image/png": "[encoded data removed]",
      "text/plain": [
       "<Figure size 1008x864 with 2 Axes>"
      ]
     },
     "metadata": {},
     "output_type": "display_data"
    }
   ],
   "source": [
    "# Посмотрим на тепловую карту зависимостей между фичами\n",
    "colormap = plt.cm.RdBu\n",
    "plt.figure(figsize=(14,12))\n",
    "plt.title('Pearson Correlation of Features', y=1.05, size=15)\n",
    "sns.heatmap(df_data.astype(float).corr(),linewidths=0.1,vmax=1.0, \n",
    "            square=True, cmap=colormap, linecolor='white', annot=True)"
   ]
  },
  {
   "cell_type": "code",
   "execution_count": 41,
   "metadata": {},
   "outputs": [
    {
     "name": "stderr",
     "output_type": "stream",
     "text": [
      "C:\\Users\\Alexey\\anaconda3\\lib\\site-packages\\seaborn\\axisgrid.py:2076: UserWarning: The `size` parameter has been renamed to `height`; please update your code.\n",
      "  warnings.warn(msg, UserWarning)\n"
     ]
    },
    {
     "data": {
      "text/plain": [
       "<seaborn.axisgrid.PairGrid at 0x1e16f4228e0>"
      ]
     },
     "execution_count": 41,
     "metadata": {},
     "output_type": "execute_result"
    },
    {
     "data": {
      "image/png": "[encoded data removed]",
      "text/plain": [
       "<Figure size 905.625x864 with 110 Axes>"
      ]
     },
     "metadata": {},
     "output_type": "display_data"
    }
   ],
   "source": [
    "g = sns.pairplot(df_data[['Dependents', 'tenure',\n",
    "       'PhoneService', 'MultipleLines', 'InternetService', 'Contract', 'PaperlessBilling', 'PaymentMethod',\n",
    "       'MonthlyCharges', 'TotalCharges', 'Churn']], \n",
    "                 hue='Churn', palette = 'seismic', size=1.2, plot_kws=dict(s=10))\n",
    "g.set(xticklabels=[])"
   ]
  },
  {
   "cell_type": "code",
   "execution_count": 42,
   "metadata": {},
   "outputs": [
    {
     "data": {
      "text/html": [
       "<div>\n",
       "<style scoped>\n",
       "    .dataframe tbody tr th:only-of-type {\n",
       "        vertical-align: middle;\n",
       "    }\n",
       "\n",
       "    .dataframe tbody tr th {\n",
       "        vertical-align: top;\n",
       "    }\n",
       "\n",
       "    .dataframe thead th {\n",
       "        text-align: right;\n",
       "    }\n",
       "</style>\n",
       "<table border=\"1\" class=\"dataframe\">\n",
       "  <thead>\n",
       "    <tr style=\"text-align: right;\">\n",
       "      <th></th>\n",
       "      <th>gender</th>\n",
       "      <th>SeniorCitizen</th>\n",
       "      <th>Partner</th>\n",
       "      <th>Dependents</th>\n",
       "      <th>tenure</th>\n",
       "      <th>PhoneService</th>\n",
       "      <th>MultipleLines</th>\n",
       "      <th>InternetService</th>\n",
       "      <th>OnlineSecurity</th>\n",
       "      <th>OnlineBackup</th>\n",
       "      <th>DeviceProtection</th>\n",
       "      <th>TechSupport</th>\n",
       "      <th>StreamingTV</th>\n",
       "      <th>StreamingMovies</th>\n",
       "      <th>Contract</th>\n",
       "      <th>PaperlessBilling</th>\n",
       "      <th>PaymentMethod</th>\n",
       "      <th>MonthlyCharges</th>\n",
       "      <th>TotalCharges</th>\n",
       "      <th>Churn</th>\n",
       "    </tr>\n",
       "  </thead>\n",
       "  <tbody>\n",
       "    <tr>\n",
       "      <th>0</th>\n",
       "      <td>1</td>\n",
       "      <td>0</td>\n",
       "      <td>1</td>\n",
       "      <td>1</td>\n",
       "      <td>3</td>\n",
       "      <td>1</td>\n",
       "      <td>1</td>\n",
       "      <td>1</td>\n",
       "      <td>0</td>\n",
       "      <td>0</td>\n",
       "      <td>0</td>\n",
       "      <td>0</td>\n",
       "      <td>0</td>\n",
       "      <td>0</td>\n",
       "      <td>3</td>\n",
       "      <td>0</td>\n",
       "      <td>4</td>\n",
       "      <td>0</td>\n",
       "      <td>0</td>\n",
       "      <td>0</td>\n",
       "    </tr>\n",
       "    <tr>\n",
       "      <th>1</th>\n",
       "      <td>2</td>\n",
       "      <td>0</td>\n",
       "      <td>0</td>\n",
       "      <td>0</td>\n",
       "      <td>2</td>\n",
       "      <td>1</td>\n",
       "      <td>0</td>\n",
       "      <td>3</td>\n",
       "      <td>0</td>\n",
       "      <td>1</td>\n",
       "      <td>1</td>\n",
       "      <td>0</td>\n",
       "      <td>1</td>\n",
       "      <td>0</td>\n",
       "      <td>1</td>\n",
       "      <td>1</td>\n",
       "      <td>4</td>\n",
       "      <td>2</td>\n",
       "      <td>1</td>\n",
       "      <td>0</td>\n",
       "    </tr>\n",
       "    <tr>\n",
       "      <th>2</th>\n",
       "      <td>2</td>\n",
       "      <td>1</td>\n",
       "      <td>1</td>\n",
       "      <td>0</td>\n",
       "      <td>2</td>\n",
       "      <td>1</td>\n",
       "      <td>1</td>\n",
       "      <td>3</td>\n",
       "      <td>0</td>\n",
       "      <td>0</td>\n",
       "      <td>0</td>\n",
       "      <td>0</td>\n",
       "      <td>0</td>\n",
       "      <td>0</td>\n",
       "      <td>1</td>\n",
       "      <td>1</td>\n",
       "      <td>3</td>\n",
       "      <td>2</td>\n",
       "      <td>1</td>\n",
       "      <td>1</td>\n",
       "    </tr>\n",
       "    <tr>\n",
       "      <th>3</th>\n",
       "      <td>1</td>\n",
       "      <td>0</td>\n",
       "      <td>0</td>\n",
       "      <td>0</td>\n",
       "      <td>0</td>\n",
       "      <td>1</td>\n",
       "      <td>0</td>\n",
       "      <td>2</td>\n",
       "      <td>0</td>\n",
       "      <td>0</td>\n",
       "      <td>0</td>\n",
       "      <td>0</td>\n",
       "      <td>0</td>\n",
       "      <td>1</td>\n",
       "      <td>1</td>\n",
       "      <td>1</td>\n",
       "      <td>1</td>\n",
       "      <td>1</td>\n",
       "      <td>0</td>\n",
       "      <td>0</td>\n",
       "    </tr>\n",
       "    <tr>\n",
       "      <th>4</th>\n",
       "      <td>1</td>\n",
       "      <td>0</td>\n",
       "      <td>0</td>\n",
       "      <td>0</td>\n",
       "      <td>0</td>\n",
       "      <td>1</td>\n",
       "      <td>0</td>\n",
       "      <td>2</td>\n",
       "      <td>1</td>\n",
       "      <td>0</td>\n",
       "      <td>1</td>\n",
       "      <td>0</td>\n",
       "      <td>0</td>\n",
       "      <td>0</td>\n",
       "      <td>1</td>\n",
       "      <td>0</td>\n",
       "      <td>1</td>\n",
       "      <td>1</td>\n",
       "      <td>0</td>\n",
       "      <td>0</td>\n",
       "    </tr>\n",
       "  </tbody>\n",
       "</table>\n",
       "</div>"
      ],
      "text/plain": [
       "   gender  SeniorCitizen  Partner  Dependents  tenure  PhoneService  \\\n",
       "0       1              0        1           1       3             1   \n",
       "1       2              0        0           0       2             1   \n",
       "2       2              1        1           0       2             1   \n",
       "3       1              0        0           0       0             1   \n",
       "4       1              0        0           0       0             1   \n",
       "\n",
       "   MultipleLines  InternetService  OnlineSecurity  OnlineBackup  \\\n",
       "0              1                1               0             0   \n",
       "1              0                3               0             1   \n",
       "2              1                3               0             0   \n",
       "3              0                2               0             0   \n",
       "4              0                2               1             0   \n",
       "\n",
       "   DeviceProtection  TechSupport  StreamingTV  StreamingMovies  Contract  \\\n",
       "0                 0            0            0                0         3   \n",
       "1                 1            0            1                0         1   \n",
       "2                 0            0            0                0         1   \n",
       "3                 0            0            0                1         1   \n",
       "4                 1            0            0                0         1   \n",
       "\n",
       "   PaperlessBilling  PaymentMethod  MonthlyCharges  TotalCharges  Churn  \n",
       "0                 0              4               0             0      0  \n",
       "1                 1              4               2             1      0  \n",
       "2                 1              3               2             1      1  \n",
       "3                 1              1               1             0      0  \n",
       "4                 0              1               1             0      0  "
      ]
     },
     "execution_count": 42,
     "metadata": {},
     "output_type": "execute_result"
    }
   ],
   "source": [
    "df_data.head()"
   ]
  },
  {
   "cell_type": "markdown",
   "metadata": {},
   "source": [
    "Определим важность фичей с помощью функции SelectKBest"
   ]
  },
  {
   "cell_type": "code",
   "execution_count": 43,
   "metadata": {},
   "outputs": [
    {
     "data": {
      "image/png": "[encoded data removed]",
      "text/plain": [
       "<Figure size 432x288 with 1 Axes>"
      ]
     },
     "metadata": {},
     "output_type": "display_data"
    }
   ],
   "source": [
    "selector = SelectKBest(f_classif, k=5)\n",
    "selector.fit(df_data.drop('Churn', axis=1), df_data[\"Churn\"])\n",
    "\n",
    "scores = -np.log10(selector.pvalues_)\n",
    "\n",
    "plt.bar(range(len(df_data.drop('Churn', axis=1).columns)), scores)\n",
    "plt.xticks(range(len(df_data.drop('Churn', axis=1).columns)), df_data.drop('Churn', axis=1).columns, rotation='vertical')\n",
    "plt.show()"
   ]
  },
  {
   "cell_type": "markdown",
   "metadata": {},
   "source": [
    "Как мы ранее определили, самыми важными фичами являеются:\n",
    "1) Как долго клиент пользуется услугами данного провайдера <br>\n",
    "2) Подключен ли интернет сервис <br>\n",
    "3) Тип заключенного контракта (годовой, помесячный) <br>\n",
    "4) Метод платежа <br>\n",
    " <br>\n",
    "**Так как в задаче требуется разделить клинтов по классам, то задача является задачей классификации.**"
   ]
  },
  {
   "cell_type": "markdown",
   "metadata": {
    "id": "YnZrI40dVYSZ"
   },
   "source": [
    "# 3. Построение моделей для прогнозирования оттока"
   ]
  },
  {
   "cell_type": "markdown",
   "metadata": {},
   "source": [
    "Определим отдельными переменными фичи и целевую переменную, на основе которой будем обучать и тестировать модели."
   ]
  },
  {
   "cell_type": "code",
   "execution_count": 44,
   "metadata": {},
   "outputs": [],
   "source": [
    "x = df_data.drop('Churn', axis=1)\n",
    "y = df_data.Churn.copy()"
   ]
  },
  {
   "cell_type": "markdown",
   "metadata": {},
   "source": [
    "Разделим на тренировочные и тестовые данные. <br>\n",
    "Применим параметр stratify, чтобы разбиение на тренировочные и тестовое данные содержало пропорциональное количество подключенных и ушедших пользователей."
   ]
  },
  {
   "cell_type": "code",
   "execution_count": 45,
   "metadata": {},
   "outputs": [],
   "source": [
    "x_train, x_test, y_train, y_test = train_test_split(x, y, test_size=0.3, random_state=42, stratify=y)"
   ]
  },
  {
   "cell_type": "code",
   "execution_count": 46,
   "metadata": {},
   "outputs": [],
   "source": [
    "# создадим условие для разбиения данных при обучении\n",
    "skf = StratifiedKFold(n_splits=5, shuffle=True, random_state=35)"
   ]
  },
  {
   "cell_type": "markdown",
   "metadata": {},
   "source": [
    "Создадим функцию, которая будет создавать модели. <br>\n",
    "Для прогнозирования оттока будем сравнивать 9 основных моделей. <br>\n",
    "KNeighborsClassifier <br>\n",
    "GaussianNB <br>\n",
    "DecisionTreeClassifier <br>\n",
    "LogisticRegression <br>\n",
    "SGDClassifier <br>\n",
    "SVC <br>\n",
    "AdaBoostClassifier <br>\n",
    "RandomForestClassifier <br>\n",
    "GradientBoostingClassifier <br>"
   ]
  },
  {
   "cell_type": "code",
   "execution_count": 47,
   "metadata": {},
   "outputs": [],
   "source": [
    "def model_algoritm ():\n",
    "    knn = KNeighborsClassifier(n_neighbors=2)\n",
    "\n",
    "    gnb = GaussianNB()\n",
    "\n",
    "    dtc = DecisionTreeClassifier(max_depth=4, random_state=35)\n",
    "\n",
    "    lr = LogisticRegression(random_state=35)\n",
    "\n",
    "    sgd = SGDClassifier()\n",
    "\n",
    "    svc = SVC()\n",
    "\n",
    "    ada = AdaBoostClassifier(random_state=35)\n",
    "\n",
    "    rfc = RandomForestClassifier(random_state=35)\n",
    "\n",
    "    gbc = GradientBoostingClassifier(random_state=35)\n",
    "\n",
    "    return knn, gnb, dtc, lr, sgd, svc, ada, rfc, gbc\n",
    "\n",
    "alg = ['KNeighborsClassifier', 'GaussianNB', 'DecisionTreeClassifier', 'LogisticRegression',\\\n",
    "       'SGDClassifier', 'SVC', 'AdaBoostClassifier', 'RandomForestClassifier', 'GradientBoostingClassifier']"
   ]
  },
  {
   "cell_type": "markdown",
   "metadata": {},
   "source": [
    "Обучим модели на тренировочных данных и посмотрим на основные метрики на тестовых данных."
   ]
  },
  {
   "cell_type": "code",
   "execution_count": 48,
   "metadata": {},
   "outputs": [
    {
     "name": "stdout",
     "output_type": "stream",
     "text": [
      "KNeighborsClassifier \n",
      " Accuracy 0.762249443207127 \n",
      " [[1227   93]\n",
      " [ 334  142]] \n",
      "\n",
      "GaussianNB \n",
      " Accuracy 0.7544543429844098 \n",
      " [[1025  295]\n",
      " [ 146  330]] \n",
      "\n",
      "DecisionTreeClassifier \n",
      " Accuracy 0.7895322939866369 \n",
      " [[1236   84]\n",
      " [ 294  182]] \n",
      "\n",
      "LogisticRegression \n",
      " Accuracy 0.7928730512249443 \n",
      " [[1185  135]\n",
      " [ 237  239]] \n",
      "\n",
      "SGDClassifier \n",
      " Accuracy 0.7700445434298441 \n",
      " [[1079  241]\n",
      " [ 172  304]] \n",
      "\n",
      "SVC \n",
      " Accuracy 0.7989977728285078 \n",
      " [[1214  106]\n",
      " [ 255  221]] \n",
      "\n",
      "AdaBoostClassifier \n",
      " Accuracy 0.7939866369710468 \n",
      " [[1188  132]\n",
      " [ 238  238]] \n",
      "\n",
      "RandomForestClassifier \n",
      " Accuracy 0.7733853006681515 \n",
      " [[1169  151]\n",
      " [ 256  220]] \n",
      "\n",
      "GradientBoostingClassifier \n",
      " Accuracy 0.7906458797327395 \n",
      " [[1183  137]\n",
      " [ 239  237]] \n",
      "\n"
     ]
    }
   ],
   "source": [
    "knn, gnb, dtc, lr, sgd, svc, ada, rfc, gbc=model_algoritm()\n",
    "model = [knn, gnb, dtc, lr, sgd, svc, ada, rfc, gbc]\n",
    "\n",
    "metrics_data = pd.DataFrame()\n",
    "\n",
    "for mod, al in zip(model, alg):   \n",
    "    mod.fit(x_train, y_train)\n",
    "    y_predict = mod.predict(x_test)\n",
    "    \n",
    "    accuracy_test = accuracy_score(y_test, y_predict)\n",
    "    mod_matrix=confusion_matrix(y_test, y_predict)\n",
    "    precision_mod = precision_score(y_test, y_predict)\n",
    "    recall_mod = recall_score(y_test, y_predict)\n",
    "    f1_mera = f1_score(y_test, y_predict)\n",
    "    auc = roc_auc_score(y_test, y_predict)\n",
    "    print ('{} \\n Accuracy {} \\n {} \\n'.format(al, accuracy_test, mod_matrix))\n",
    "    \n",
    "    metrict_dict = {'Alg_model':al, 'Accuracy':accuracy_test,\\\n",
    "                    'auc':auc, 'precision':precision_mod,\\\n",
    "                    'recall':recall_mod, 'f1':f1_mera}\n",
    "    metrics_data=metrics_data.append( metrict_dict, ignore_index=True)"
   ]
  },
  {
   "cell_type": "code",
   "execution_count": 49,
   "metadata": {},
   "outputs": [
    {
     "data": {
      "text/html": [
       "<div>\n",
       "<style scoped>\n",
       "    .dataframe tbody tr th:only-of-type {\n",
       "        vertical-align: middle;\n",
       "    }\n",
       "\n",
       "    .dataframe tbody tr th {\n",
       "        vertical-align: top;\n",
       "    }\n",
       "\n",
       "    .dataframe thead th {\n",
       "        text-align: right;\n",
       "    }\n",
       "</style>\n",
       "<table border=\"1\" class=\"dataframe\">\n",
       "  <thead>\n",
       "    <tr style=\"text-align: right;\">\n",
       "      <th></th>\n",
       "      <th>Alg_model</th>\n",
       "      <th>Accuracy</th>\n",
       "      <th>auc</th>\n",
       "      <th>precision</th>\n",
       "      <th>recall</th>\n",
       "      <th>f1</th>\n",
       "    </tr>\n",
       "  </thead>\n",
       "  <tbody>\n",
       "    <tr>\n",
       "      <th>0</th>\n",
       "      <td>KNeighborsClassifier</td>\n",
       "      <td>0.762249</td>\n",
       "      <td>0.613932</td>\n",
       "      <td>0.604255</td>\n",
       "      <td>0.298319</td>\n",
       "      <td>0.399437</td>\n",
       "    </tr>\n",
       "    <tr>\n",
       "      <th>1</th>\n",
       "      <td>GaussianNB</td>\n",
       "      <td>0.754454</td>\n",
       "      <td>0.734896</td>\n",
       "      <td>0.528000</td>\n",
       "      <td>0.693277</td>\n",
       "      <td>0.599455</td>\n",
       "    </tr>\n",
       "    <tr>\n",
       "      <th>2</th>\n",
       "      <td>DecisionTreeClassifier</td>\n",
       "      <td>0.789532</td>\n",
       "      <td>0.659358</td>\n",
       "      <td>0.684211</td>\n",
       "      <td>0.382353</td>\n",
       "      <td>0.490566</td>\n",
       "    </tr>\n",
       "    <tr>\n",
       "      <th>3</th>\n",
       "      <td>LogisticRegression</td>\n",
       "      <td>0.792873</td>\n",
       "      <td>0.699914</td>\n",
       "      <td>0.639037</td>\n",
       "      <td>0.502101</td>\n",
       "      <td>0.562353</td>\n",
       "    </tr>\n",
       "    <tr>\n",
       "      <th>4</th>\n",
       "      <td>SGDClassifier</td>\n",
       "      <td>0.770045</td>\n",
       "      <td>0.728040</td>\n",
       "      <td>0.557798</td>\n",
       "      <td>0.638655</td>\n",
       "      <td>0.595495</td>\n",
       "    </tr>\n",
       "    <tr>\n",
       "      <th>5</th>\n",
       "      <td>SVC</td>\n",
       "      <td>0.798998</td>\n",
       "      <td>0.691991</td>\n",
       "      <td>0.675841</td>\n",
       "      <td>0.464286</td>\n",
       "      <td>0.550436</td>\n",
       "    </tr>\n",
       "    <tr>\n",
       "      <th>6</th>\n",
       "      <td>AdaBoostClassifier</td>\n",
       "      <td>0.793987</td>\n",
       "      <td>0.700000</td>\n",
       "      <td>0.643243</td>\n",
       "      <td>0.500000</td>\n",
       "      <td>0.562648</td>\n",
       "    </tr>\n",
       "    <tr>\n",
       "      <th>7</th>\n",
       "      <td>RandomForestClassifier</td>\n",
       "      <td>0.773385</td>\n",
       "      <td>0.673895</td>\n",
       "      <td>0.592992</td>\n",
       "      <td>0.462185</td>\n",
       "      <td>0.519481</td>\n",
       "    </tr>\n",
       "    <tr>\n",
       "      <th>8</th>\n",
       "      <td>GradientBoostingClassifier</td>\n",
       "      <td>0.790646</td>\n",
       "      <td>0.697056</td>\n",
       "      <td>0.633690</td>\n",
       "      <td>0.497899</td>\n",
       "      <td>0.557647</td>\n",
       "    </tr>\n",
       "  </tbody>\n",
       "</table>\n",
       "</div>"
      ],
      "text/plain": [
       "                    Alg_model  Accuracy       auc  precision    recall  \\\n",
       "0        KNeighborsClassifier  0.762249  0.613932   0.604255  0.298319   \n",
       "1                  GaussianNB  0.754454  0.734896   0.528000  0.693277   \n",
       "2      DecisionTreeClassifier  0.789532  0.659358   0.684211  0.382353   \n",
       "3          LogisticRegression  0.792873  0.699914   0.639037  0.502101   \n",
       "4               SGDClassifier  0.770045  0.728040   0.557798  0.638655   \n",
       "5                         SVC  0.798998  0.691991   0.675841  0.464286   \n",
       "6          AdaBoostClassifier  0.793987  0.700000   0.643243  0.500000   \n",
       "7      RandomForestClassifier  0.773385  0.673895   0.592992  0.462185   \n",
       "8  GradientBoostingClassifier  0.790646  0.697056   0.633690  0.497899   \n",
       "\n",
       "         f1  \n",
       "0  0.399437  \n",
       "1  0.599455  \n",
       "2  0.490566  \n",
       "3  0.562353  \n",
       "4  0.595495  \n",
       "5  0.550436  \n",
       "6  0.562648  \n",
       "7  0.519481  \n",
       "8  0.557647  "
      ]
     },
     "execution_count": 49,
     "metadata": {},
     "output_type": "execute_result"
    }
   ],
   "source": [
    "metrics_data"
   ]
  },
  {
   "cell_type": "markdown",
   "metadata": {},
   "source": [
    "Все модели дают примерно одинаковый результат. <br>\n",
    "Модель GaussianNB показала лучший результат по метреке recall.\n",
    " <br>\n",
    " **Для удержания клиента компания может применять различные поощрения клиента в виде бонусов, скидок, промокодов, доплнительных сервисов и прочее. В данной задаче для нас главной метрикой определения качества модели является \"roc_auc\".** <br>\n",
    " **Если поощрим клинента, который не собирался уходить, то для компании это не так много, а клиент станет еще преданнее.**"
   ]
  },
  {
   "cell_type": "markdown",
   "metadata": {},
   "source": [
    "Определим параметры моделий, которые хотим варировать для улучшения качества моделей и сделаем обучение при помощи GridSearchCV. Главной метрикой установим \"auc\"."
   ]
  },
  {
   "cell_type": "code",
   "execution_count": 50,
   "metadata": {},
   "outputs": [],
   "source": [
    "# Определяем параметры для алгоритмов\n",
    "\n",
    "knn_param = {'n_neighbors':range(1, 10)}\n",
    "\n",
    "gnb_param = {}\n",
    "\n",
    "dtc_param = {'criterion': ['gini', 'entropy'],\\\n",
    "             'max_depth': range(1,11, 5),\\\n",
    "             'max_features': range(4, 10, 3)}\n",
    "\n",
    "lr_param = {'C': np.logspace(-4, 4, 5), 'penalty': ['l1', 'l2'], 'solver':['liblinear']}\n",
    "\n",
    "sgd_param = {'penalty':['elasticnet'], \"loss\": [\"log\"], \"penalty\": [\"l2\"], 'alpha':np.arange(0.00005, 0.001, 0.0001)}\n",
    "\n",
    "svc_param = {'kernel' : ['linear'], 'C' : [0.001, 0.001, 1, 2, 2.5, 3, 10]}\n",
    "\n",
    "ada_param = {'n_estimators': range(1, 15, 1), 'learning_rate' : np.arange(0.1, 1, 0.1)}\n",
    "\n",
    "rfc_param = {'n_estimators': range(10, 100, 10)}\n",
    "\n",
    "gbc_param = {'n_estimators': range(10, 100, 10)}"
   ]
  },
  {
   "cell_type": "code",
   "execution_count": 52,
   "metadata": {},
   "outputs": [
    {
     "name": "stdout",
     "output_type": "stream",
     "text": [
      "Fitting 5 folds for each of 9 candidates, totalling 45 fits\n",
      "<bound method BaseEstimator.get_params of GridSearchCV(cv=StratifiedKFold(n_splits=5, random_state=35, shuffle=True),\n",
      "             estimator=KNeighborsClassifier(n_neighbors=2), n_jobs=-1,\n",
      "             param_grid={'n_neighbors': range(1, 10)}, scoring='roc_auc',\n",
      "             verbose=1)> {'n_neighbors': 9}\n",
      "KNeighborsClassifier \n",
      " Accuracy: 0.7706013363028953 \n",
      " [[1127  193]\n",
      " [ 219  257]] \n",
      "\n",
      "Fitting 5 folds for each of 1 candidates, totalling 5 fits\n",
      "<bound method BaseEstimator.get_params of GridSearchCV(cv=StratifiedKFold(n_splits=5, random_state=35, shuffle=True),\n",
      "             estimator=GaussianNB(), n_jobs=-1, param_grid={},\n",
      "             scoring='roc_auc', verbose=1)> {}\n",
      "GaussianNB \n",
      " Accuracy: 0.7544543429844098 \n",
      " [[1025  295]\n",
      " [ 146  330]] \n",
      "\n",
      "Fitting 5 folds for each of 8 candidates, totalling 40 fits\n",
      "<bound method BaseEstimator.get_params of GridSearchCV(cv=StratifiedKFold(n_splits=5, random_state=35, shuffle=True),\n",
      "             estimator=DecisionTreeClassifier(max_depth=4, random_state=35),\n",
      "             n_jobs=-1,\n",
      "             param_grid={'criterion': ['gini', 'entropy'],\n",
      "                         'max_depth': range(1, 11, 5),\n",
      "                         'max_features': range(4, 10, 3)},\n",
      "             scoring='roc_auc', verbose=1)> {'criterion': 'gini', 'max_depth': 6, 'max_features': 7}\n",
      "DecisionTreeClassifier \n",
      " Accuracy: 0.7850779510022272 \n",
      " [[1173  147]\n",
      " [ 239  237]] \n",
      "\n",
      "Fitting 5 folds for each of 10 candidates, totalling 50 fits\n",
      "<bound method BaseEstimator.get_params of GridSearchCV(cv=StratifiedKFold(n_splits=5, random_state=35, shuffle=True),\n",
      "             estimator=LogisticRegression(random_state=35), n_jobs=-1,\n",
      "             param_grid={'C': array([1.e-04, 1.e-02, 1.e+00, 1.e+02, 1.e+04]),\n",
      "                         'penalty': ['l1', 'l2'], 'solver': ['liblinear']},\n",
      "             scoring='roc_auc', verbose=1)> {'C': 1.0, 'penalty': 'l1', 'solver': 'liblinear'}\n",
      "LogisticRegression \n",
      " Accuracy: 0.7928730512249443 \n",
      " [[1184  136]\n",
      " [ 236  240]] \n",
      "\n",
      "Fitting 5 folds for each of 10 candidates, totalling 50 fits\n",
      "<bound method BaseEstimator.get_params of GridSearchCV(cv=StratifiedKFold(n_splits=5, random_state=35, shuffle=True),\n",
      "             estimator=SGDClassifier(), n_jobs=-1,\n",
      "             param_grid={'alpha': array([5.0e-05, 1.5e-04, 2.5e-04, 3.5e-04, 4.5e-04, 5.5e-04, 6.5e-04,\n",
      "       7.5e-04, 8.5e-04, 9.5e-04]),\n",
      "                         'loss': ['log'], 'penalty': ['l2']},\n",
      "             scoring='roc_auc', verbose=1)> {'alpha': 0.0008500000000000002, 'loss': 'log', 'penalty': 'l2'}\n",
      "SGDClassifier \n",
      " Accuracy: 0.7689309576837416 \n",
      " [[1060  260]\n",
      " [ 155  321]] \n",
      "\n",
      "Fitting 5 folds for each of 7 candidates, totalling 35 fits\n",
      "<bound method BaseEstimator.get_params of GridSearchCV(cv=StratifiedKFold(n_splits=5, random_state=35, shuffle=True),\n",
      "             estimator=SVC(), n_jobs=-1,\n",
      "             param_grid={'C': [0.001, 0.001, 1, 2, 2.5, 3, 10],\n",
      "                         'kernel': ['linear']},\n",
      "             scoring='roc_auc', verbose=1)> {'C': 10, 'kernel': 'linear'}\n",
      "SVC \n",
      " Accuracy: 0.7962138084632516 \n",
      " [[1180  140]\n",
      " [ 226  250]] \n",
      "\n",
      "Fitting 5 folds for each of 126 candidates, totalling 630 fits\n",
      "<bound method BaseEstimator.get_params of GridSearchCV(cv=StratifiedKFold(n_splits=5, random_state=35, shuffle=True),\n",
      "             estimator=AdaBoostClassifier(random_state=35), n_jobs=-1,\n",
      "             param_grid={'learning_rate': array([0.1, 0.2, 0.3, 0.4, 0.5, 0.6, 0.7, 0.8, 0.9]),\n",
      "                         'n_estimators': range(1, 15)},\n",
      "             scoring='roc_auc', verbose=1)> {'learning_rate': 0.6, 'n_estimators': 14}\n",
      "AdaBoostClassifier \n",
      " Accuracy: 0.7956570155902004 \n",
      " [[1186  134]\n",
      " [ 233  243]] \n",
      "\n",
      "Fitting 5 folds for each of 9 candidates, totalling 45 fits\n",
      "<bound method BaseEstimator.get_params of GridSearchCV(cv=StratifiedKFold(n_splits=5, random_state=35, shuffle=True),\n",
      "             estimator=RandomForestClassifier(random_state=35), n_jobs=-1,\n",
      "             param_grid={'n_estimators': range(10, 100, 10)}, scoring='roc_auc',\n",
      "             verbose=1)> {'n_estimators': 80}\n",
      "RandomForestClassifier \n",
      " Accuracy: 0.772271714922049 \n",
      " [[1169  151]\n",
      " [ 258  218]] \n",
      "\n",
      "Fitting 5 folds for each of 9 candidates, totalling 45 fits\n",
      "<bound method BaseEstimator.get_params of GridSearchCV(cv=StratifiedKFold(n_splits=5, random_state=35, shuffle=True),\n",
      "             estimator=GradientBoostingClassifier(random_state=35), n_jobs=-1,\n",
      "             param_grid={'n_estimators': range(10, 100, 10)}, scoring='roc_auc',\n",
      "             verbose=1)> {'n_estimators': 40}\n",
      "GradientBoostingClassifier \n",
      " Accuracy: 0.7951002227171492 \n",
      " [[1195  125]\n",
      " [ 243  233]] \n",
      "\n",
      "Wall time: 11.2 s\n"
     ]
    }
   ],
   "source": [
    "%%time\n",
    "\n",
    "knn, gnb, dtc, lr, sgd, svc, ada, rfc, gbc=model_algoritm()\n",
    "\n",
    "model = [knn, gnb, dtc, lr, sgd, svc, ada, rfc, gbc]\n",
    "params = [knn_param, gnb_param, dtc_param, lr_param, sgd_param, svc_param, ada_param, rfc_param, gbc_param]\n",
    "\n",
    "metrics_data_grid = pd.DataFrame()\n",
    "\n",
    "for mod, al, params in zip(model, alg, params):\n",
    "    clf = GridSearchCV(mod, params, scoring='roc_auc', cv=skf, n_jobs=-1, refit=True, verbose=1)\n",
    "    clf.fit(x_train, y_train)\n",
    "    y_predict = clf.predict(x_test)\n",
    "    accuracy_test = accuracy_score(y_test, y_predict)\n",
    "\n",
    "    try: print(clf.get_params, clf.best_params_)\n",
    "    except: pass\n",
    "    clf_matrix=confusion_matrix(y_test, y_predict)\n",
    "    precision_clf = precision_score(y_test, y_predict)\n",
    "    recall_clf = recall_score(y_test, y_predict)\n",
    "    f1_mera = f1_score(y_test, y_predict)\n",
    "    auc_p=roc_auc_score(y_test, y_predict)\n",
    "    print ('{} \\n Accuracy: {} \\n {} \\n'.format(al, accuracy_test, clf_matrix))\n",
    "    metrict_dict = {'Alg_model':al, 'Accuracy':accuracy_test,\\\n",
    "                    'auc':auc_p, 'precision':precision_clf,\\\n",
    "                    'recall':recall_clf, 'f1':f1_mera}\n",
    "    metrics_data_grid =metrics_data_grid.append( metrict_dict, ignore_index=True)"
   ]
  },
  {
   "cell_type": "code",
   "execution_count": 53,
   "metadata": {},
   "outputs": [
    {
     "data": {
      "text/html": [
       "<div>\n",
       "<style scoped>\n",
       "    .dataframe tbody tr th:only-of-type {\n",
       "        vertical-align: middle;\n",
       "    }\n",
       "\n",
       "    .dataframe tbody tr th {\n",
       "        vertical-align: top;\n",
       "    }\n",
       "\n",
       "    .dataframe thead th {\n",
       "        text-align: right;\n",
       "    }\n",
       "</style>\n",
       "<table border=\"1\" class=\"dataframe\">\n",
       "  <thead>\n",
       "    <tr style=\"text-align: right;\">\n",
       "      <th></th>\n",
       "      <th>Alg_model</th>\n",
       "      <th>Accuracy</th>\n",
       "      <th>auc</th>\n",
       "      <th>precision</th>\n",
       "      <th>recall</th>\n",
       "      <th>f1</th>\n",
       "    </tr>\n",
       "  </thead>\n",
       "  <tbody>\n",
       "    <tr>\n",
       "      <th>0</th>\n",
       "      <td>KNeighborsClassifier</td>\n",
       "      <td>0.762249</td>\n",
       "      <td>0.613932</td>\n",
       "      <td>0.604255</td>\n",
       "      <td>0.298319</td>\n",
       "      <td>0.399437</td>\n",
       "    </tr>\n",
       "    <tr>\n",
       "      <th>1</th>\n",
       "      <td>GaussianNB</td>\n",
       "      <td>0.754454</td>\n",
       "      <td>0.734896</td>\n",
       "      <td>0.528000</td>\n",
       "      <td>0.693277</td>\n",
       "      <td>0.599455</td>\n",
       "    </tr>\n",
       "    <tr>\n",
       "      <th>2</th>\n",
       "      <td>DecisionTreeClassifier</td>\n",
       "      <td>0.789532</td>\n",
       "      <td>0.659358</td>\n",
       "      <td>0.684211</td>\n",
       "      <td>0.382353</td>\n",
       "      <td>0.490566</td>\n",
       "    </tr>\n",
       "    <tr>\n",
       "      <th>3</th>\n",
       "      <td>LogisticRegression</td>\n",
       "      <td>0.792873</td>\n",
       "      <td>0.699914</td>\n",
       "      <td>0.639037</td>\n",
       "      <td>0.502101</td>\n",
       "      <td>0.562353</td>\n",
       "    </tr>\n",
       "    <tr>\n",
       "      <th>4</th>\n",
       "      <td>SGDClassifier</td>\n",
       "      <td>0.770045</td>\n",
       "      <td>0.728040</td>\n",
       "      <td>0.557798</td>\n",
       "      <td>0.638655</td>\n",
       "      <td>0.595495</td>\n",
       "    </tr>\n",
       "    <tr>\n",
       "      <th>5</th>\n",
       "      <td>SVC</td>\n",
       "      <td>0.798998</td>\n",
       "      <td>0.691991</td>\n",
       "      <td>0.675841</td>\n",
       "      <td>0.464286</td>\n",
       "      <td>0.550436</td>\n",
       "    </tr>\n",
       "    <tr>\n",
       "      <th>6</th>\n",
       "      <td>AdaBoostClassifier</td>\n",
       "      <td>0.793987</td>\n",
       "      <td>0.700000</td>\n",
       "      <td>0.643243</td>\n",
       "      <td>0.500000</td>\n",
       "      <td>0.562648</td>\n",
       "    </tr>\n",
       "    <tr>\n",
       "      <th>7</th>\n",
       "      <td>RandomForestClassifier</td>\n",
       "      <td>0.773385</td>\n",
       "      <td>0.673895</td>\n",
       "      <td>0.592992</td>\n",
       "      <td>0.462185</td>\n",
       "      <td>0.519481</td>\n",
       "    </tr>\n",
       "    <tr>\n",
       "      <th>8</th>\n",
       "      <td>GradientBoostingClassifier</td>\n",
       "      <td>0.790646</td>\n",
       "      <td>0.697056</td>\n",
       "      <td>0.633690</td>\n",
       "      <td>0.497899</td>\n",
       "      <td>0.557647</td>\n",
       "    </tr>\n",
       "  </tbody>\n",
       "</table>\n",
       "</div>"
      ],
      "text/plain": [
       "                    Alg_model  Accuracy       auc  precision    recall  \\\n",
       "0        KNeighborsClassifier  0.762249  0.613932   0.604255  0.298319   \n",
       "1                  GaussianNB  0.754454  0.734896   0.528000  0.693277   \n",
       "2      DecisionTreeClassifier  0.789532  0.659358   0.684211  0.382353   \n",
       "3          LogisticRegression  0.792873  0.699914   0.639037  0.502101   \n",
       "4               SGDClassifier  0.770045  0.728040   0.557798  0.638655   \n",
       "5                         SVC  0.798998  0.691991   0.675841  0.464286   \n",
       "6          AdaBoostClassifier  0.793987  0.700000   0.643243  0.500000   \n",
       "7      RandomForestClassifier  0.773385  0.673895   0.592992  0.462185   \n",
       "8  GradientBoostingClassifier  0.790646  0.697056   0.633690  0.497899   \n",
       "\n",
       "         f1  \n",
       "0  0.399437  \n",
       "1  0.599455  \n",
       "2  0.490566  \n",
       "3  0.562353  \n",
       "4  0.595495  \n",
       "5  0.550436  \n",
       "6  0.562648  \n",
       "7  0.519481  \n",
       "8  0.557647  "
      ]
     },
     "execution_count": 53,
     "metadata": {},
     "output_type": "execute_result"
    }
   ],
   "source": [
    "metrics_data"
   ]
  },
  {
   "cell_type": "code",
   "execution_count": 54,
   "metadata": {},
   "outputs": [
    {
     "data": {
      "text/html": [
       "<div>\n",
       "<style scoped>\n",
       "    .dataframe tbody tr th:only-of-type {\n",
       "        vertical-align: middle;\n",
       "    }\n",
       "\n",
       "    .dataframe tbody tr th {\n",
       "        vertical-align: top;\n",
       "    }\n",
       "\n",
       "    .dataframe thead th {\n",
       "        text-align: right;\n",
       "    }\n",
       "</style>\n",
       "<table border=\"1\" class=\"dataframe\">\n",
       "  <thead>\n",
       "    <tr style=\"text-align: right;\">\n",
       "      <th></th>\n",
       "      <th>Alg_model</th>\n",
       "      <th>Accuracy</th>\n",
       "      <th>auc</th>\n",
       "      <th>precision</th>\n",
       "      <th>recall</th>\n",
       "      <th>f1</th>\n",
       "    </tr>\n",
       "  </thead>\n",
       "  <tbody>\n",
       "    <tr>\n",
       "      <th>0</th>\n",
       "      <td>KNeighborsClassifier</td>\n",
       "      <td>0.770601</td>\n",
       "      <td>0.696852</td>\n",
       "      <td>0.571111</td>\n",
       "      <td>0.539916</td>\n",
       "      <td>0.555076</td>\n",
       "    </tr>\n",
       "    <tr>\n",
       "      <th>1</th>\n",
       "      <td>GaussianNB</td>\n",
       "      <td>0.754454</td>\n",
       "      <td>0.734896</td>\n",
       "      <td>0.528000</td>\n",
       "      <td>0.693277</td>\n",
       "      <td>0.599455</td>\n",
       "    </tr>\n",
       "    <tr>\n",
       "      <th>2</th>\n",
       "      <td>DecisionTreeClassifier</td>\n",
       "      <td>0.785078</td>\n",
       "      <td>0.693268</td>\n",
       "      <td>0.617188</td>\n",
       "      <td>0.497899</td>\n",
       "      <td>0.551163</td>\n",
       "    </tr>\n",
       "    <tr>\n",
       "      <th>3</th>\n",
       "      <td>LogisticRegression</td>\n",
       "      <td>0.792873</td>\n",
       "      <td>0.700586</td>\n",
       "      <td>0.638298</td>\n",
       "      <td>0.504202</td>\n",
       "      <td>0.563380</td>\n",
       "    </tr>\n",
       "    <tr>\n",
       "      <th>4</th>\n",
       "      <td>SGDClassifier</td>\n",
       "      <td>0.768931</td>\n",
       "      <td>0.738700</td>\n",
       "      <td>0.552496</td>\n",
       "      <td>0.674370</td>\n",
       "      <td>0.607379</td>\n",
       "    </tr>\n",
       "    <tr>\n",
       "      <th>5</th>\n",
       "      <td>SVC</td>\n",
       "      <td>0.796214</td>\n",
       "      <td>0.709575</td>\n",
       "      <td>0.641026</td>\n",
       "      <td>0.525210</td>\n",
       "      <td>0.577367</td>\n",
       "    </tr>\n",
       "    <tr>\n",
       "      <th>6</th>\n",
       "      <td>AdaBoostClassifier</td>\n",
       "      <td>0.795657</td>\n",
       "      <td>0.704495</td>\n",
       "      <td>0.644562</td>\n",
       "      <td>0.510504</td>\n",
       "      <td>0.569754</td>\n",
       "    </tr>\n",
       "    <tr>\n",
       "      <th>7</th>\n",
       "      <td>RandomForestClassifier</td>\n",
       "      <td>0.772272</td>\n",
       "      <td>0.671795</td>\n",
       "      <td>0.590786</td>\n",
       "      <td>0.457983</td>\n",
       "      <td>0.515976</td>\n",
       "    </tr>\n",
       "    <tr>\n",
       "      <th>8</th>\n",
       "      <td>GradientBoostingClassifier</td>\n",
       "      <td>0.795100</td>\n",
       "      <td>0.697399</td>\n",
       "      <td>0.650838</td>\n",
       "      <td>0.489496</td>\n",
       "      <td>0.558753</td>\n",
       "    </tr>\n",
       "  </tbody>\n",
       "</table>\n",
       "</div>"
      ],
      "text/plain": [
       "                    Alg_model  Accuracy       auc  precision    recall  \\\n",
       "0        KNeighborsClassifier  0.770601  0.696852   0.571111  0.539916   \n",
       "1                  GaussianNB  0.754454  0.734896   0.528000  0.693277   \n",
       "2      DecisionTreeClassifier  0.785078  0.693268   0.617188  0.497899   \n",
       "3          LogisticRegression  0.792873  0.700586   0.638298  0.504202   \n",
       "4               SGDClassifier  0.768931  0.738700   0.552496  0.674370   \n",
       "5                         SVC  0.796214  0.709575   0.641026  0.525210   \n",
       "6          AdaBoostClassifier  0.795657  0.704495   0.644562  0.510504   \n",
       "7      RandomForestClassifier  0.772272  0.671795   0.590786  0.457983   \n",
       "8  GradientBoostingClassifier  0.795100  0.697399   0.650838  0.489496   \n",
       "\n",
       "         f1  \n",
       "0  0.555076  \n",
       "1  0.599455  \n",
       "2  0.551163  \n",
       "3  0.563380  \n",
       "4  0.607379  \n",
       "5  0.577367  \n",
       "6  0.569754  \n",
       "7  0.515976  \n",
       "8  0.558753  "
      ]
     },
     "execution_count": 54,
     "metadata": {},
     "output_type": "execute_result"
    }
   ],
   "source": [
    "metrics_data_grid"
   ]
  },
  {
   "cell_type": "markdown",
   "metadata": {},
   "source": [
    "Качество моделей улучилось. <br>\n",
    "SGDClassifier имеет лучшие показатели"
   ]
  },
  {
   "cell_type": "markdown",
   "metadata": {},
   "source": [
    "**Проверим пргноз на методе xgboost.**"
   ]
  },
  {
   "cell_type": "code",
   "execution_count": 55,
   "metadata": {},
   "outputs": [],
   "source": [
    "#xgboost\n",
    "dtrain = xgb.DMatrix(x_train, y_train)\n",
    "dtest = xgb.DMatrix(x_test, y_test)\n",
    "xgb_params = {'objective': 'binary:logistic', \n",
    "          'max_depth': 1, \n",
    "          'silent': 1, \n",
    "          'eta': 1,\n",
    "          'eval_metric':'auc',\n",
    "          'verbosity':0}\n",
    "num_rounds = 30"
   ]
  },
  {
   "cell_type": "code",
   "execution_count": 56,
   "metadata": {},
   "outputs": [],
   "source": [
    "xgb_model = xgb.train(xgb_params, dtrain, num_rounds)\n",
    "y_pred = xgb_model.predict(dtest)\n",
    "y_pred_bin = [True if i>0.5 else False for i in y_pred ]\n",
    "y_pred_bin = np.array(y_pred_bin)"
   ]
  },
  {
   "cell_type": "code",
   "execution_count": 57,
   "metadata": {},
   "outputs": [
    {
     "name": "stdout",
     "output_type": "stream",
     "text": [
      "Матрица \n",
      " [[1186  134]\n",
      " [ 231  245]] \n",
      " Precision = 0.6464379947229552 \n",
      " Recall = 0.5147058823529411 \n",
      " roc_auc = 0.7065953654188948\n"
     ]
    }
   ],
   "source": [
    "con_matrix = confusion_matrix(y_test, y_pred_bin)\n",
    "prec_score = precision_score(y_test, y_pred_bin)\n",
    "re_score = recall_score(y_test, y_pred_bin)\n",
    "auc = roc_auc_score(y_test, y_pred_bin)\n",
    "print('Матрица \\n {} \\n Precision = {} \\n Recall = {} \\n roc_auc = {}'.format(con_matrix, prec_score, re_score, auc))"
   ]
  },
  {
   "cell_type": "code",
   "execution_count": 58,
   "metadata": {},
   "outputs": [
    {
     "data": {
      "text/plain": [
       "<AxesSubplot:title={'center':'Feature importance'}, xlabel='F score', ylabel='Features'>"
      ]
     },
     "execution_count": 58,
     "metadata": {},
     "output_type": "execute_result"
    },
    {
     "data": {
      "image/png": "[encoded data removed]",
      "text/plain": [
       "<Figure size 432x288 with 1 Axes>"
      ]
     },
     "metadata": {},
     "output_type": "display_data"
    }
   ],
   "source": [
    "xgb.plot_importance(xgb_model)"
   ]
  },
  {
   "cell_type": "code",
   "execution_count": 59,
   "metadata": {},
   "outputs": [],
   "source": [
    "a=[]\n",
    "for i in range(1,16):\n",
    "    scale_pos_weight_ = (sum(y_train==0)/sum(y_train==1))/i\n",
    "    params = {'objective': 'binary:logistic', \n",
    "              'max_depth': 1, \n",
    "              'silent': 1, \n",
    "              'eta': 1,\n",
    "             'scale_pos_weight':scale_pos_weight_,\n",
    "             'verbosity':0}\n",
    "    xgb_model = xgb.train(params, dtrain, num_rounds)\n",
    "    y_pred = xgb_model.predict(dtest)\n",
    "    y_pred_bin = [True if i>0.5 else False for i in y_pred ]\n",
    "    y_pred_bin = np.array(y_pred_bin)\n",
    "    y_pred_bin\n",
    "\n",
    "    con_matrix = confusion_matrix(y_test, y_pred_bin)\n",
    "    prec_score = precision_score(y_test, y_pred_bin)\n",
    "    re_score = recall_score(y_test, y_pred_bin)\n",
    "    #print('Матрица \\n {} \\n Precision = {} \\n Recall = {}'.format(con_matrix, prec_score, re_score))\n",
    "    a+=[[i, prec_score, re_score]]\n",
    "a = np.array(a)"
   ]
  },
  {
   "cell_type": "code",
   "execution_count": 60,
   "metadata": {},
   "outputs": [
    {
     "data": {
      "image/png": "[encoded data removed]",
      "text/plain": [
       "<Figure size 432x288 with 1 Axes>"
      ]
     },
     "metadata": {},
     "output_type": "display_data"
    }
   ],
   "source": [
    "plt.plot(a[:, 1], a[:, 2])\n",
    "plt.plot([0, .9], [0, .9], ls='--')\n",
    "plt.xlabel('precision')\n",
    "plt.ylabel('recall')\n",
    "plt.show()"
   ]
  },
  {
   "cell_type": "markdown",
   "metadata": {},
   "source": [
    "Оптимальное качество получаем, когда recall и precision достигаю 0.6"
   ]
  },
  {
   "cell_type": "code",
   "execution_count": 61,
   "metadata": {},
   "outputs": [],
   "source": [
    "clf = xgb.XGBClassifier()\n",
    "xgbclass_param = {'objective' : ['binary:logistic'], \n",
    "                  'max_depth': [3,4,5],\n",
    "                  \"learning_rate\": [0.01, 0.02, 0.05],\n",
    "                  'scale_pos_weight':[1,3,5],\n",
    "                  'silent': [1], \n",
    "                  'eta': [1],\n",
    "                  'eval_metric':['aucpr'],\n",
    "                  'verbosity':[0]}\n"
   ]
  },
  {
   "cell_type": "code",
   "execution_count": 62,
   "metadata": {},
   "outputs": [
    {
     "name": "stdout",
     "output_type": "stream",
     "text": [
      "[0]\tvalidation_0-aucpr:0.58540\n",
      "[1]\tvalidation_0-aucpr:0.58687\n",
      "[2]\tvalidation_0-aucpr:0.59111\n",
      "[3]\tvalidation_0-aucpr:0.59260\n",
      "[4]\tvalidation_0-aucpr:0.59794\n",
      "[5]\tvalidation_0-aucpr:0.60063\n",
      "[6]\tvalidation_0-aucpr:0.59873\n",
      "[7]\tvalidation_0-aucpr:0.60247\n",
      "[8]\tvalidation_0-aucpr:0.60287\n",
      "[9]\tvalidation_0-aucpr:0.60335\n",
      "[10]\tvalidation_0-aucpr:0.60360\n",
      "[11]\tvalidation_0-aucpr:0.60687\n",
      "[12]\tvalidation_0-aucpr:0.60385\n",
      "[13]\tvalidation_0-aucpr:0.60711\n",
      "[14]\tvalidation_0-aucpr:0.60785\n",
      "[15]\tvalidation_0-aucpr:0.60631\n",
      "[16]\tvalidation_0-aucpr:0.60770\n",
      "[17]\tvalidation_0-aucpr:0.60765\n",
      "[18]\tvalidation_0-aucpr:0.60737\n",
      "[19]\tvalidation_0-aucpr:0.60765\n",
      "[20]\tvalidation_0-aucpr:0.60796\n",
      "[21]\tvalidation_0-aucpr:0.60817\n",
      "[22]\tvalidation_0-aucpr:0.60829\n",
      "[23]\tvalidation_0-aucpr:0.60801\n",
      "[24]\tvalidation_0-aucpr:0.60822\n",
      "[25]\tvalidation_0-aucpr:0.60915\n",
      "[26]\tvalidation_0-aucpr:0.60917\n",
      "[27]\tvalidation_0-aucpr:0.60960\n",
      "[28]\tvalidation_0-aucpr:0.60930\n",
      "[29]\tvalidation_0-aucpr:0.61036\n",
      "[30]\tvalidation_0-aucpr:0.60959\n",
      "[31]\tvalidation_0-aucpr:0.61083\n",
      "[32]\tvalidation_0-aucpr:0.60908\n",
      "[33]\tvalidation_0-aucpr:0.60950\n",
      "[34]\tvalidation_0-aucpr:0.60736\n",
      "[35]\tvalidation_0-aucpr:0.61387\n",
      "[36]\tvalidation_0-aucpr:0.61300\n",
      "[37]\tvalidation_0-aucpr:0.61363\n",
      "[38]\tvalidation_0-aucpr:0.61395\n",
      "[39]\tvalidation_0-aucpr:0.61691\n",
      "[40]\tvalidation_0-aucpr:0.61756\n",
      "[41]\tvalidation_0-aucpr:0.61547\n",
      "[42]\tvalidation_0-aucpr:0.61527\n",
      "[43]\tvalidation_0-aucpr:0.61542\n",
      "[44]\tvalidation_0-aucpr:0.61575\n",
      "[45]\tvalidation_0-aucpr:0.61051\n",
      "[46]\tvalidation_0-aucpr:0.61507\n",
      "[47]\tvalidation_0-aucpr:0.61489\n",
      "[48]\tvalidation_0-aucpr:0.61456\n",
      "[49]\tvalidation_0-aucpr:0.61260\n",
      "[50]\tvalidation_0-aucpr:0.61259\n",
      "<bound method BaseEstimator.get_params of GridSearchCV(cv=StratifiedKFold(n_splits=5, random_state=35, shuffle=True),\n",
      "             estimator=XGBClassifier(base_score=None, booster=None,\n",
      "                                     callbacks=None, colsample_bylevel=None,\n",
      "                                     colsample_bynode=None,\n",
      "                                     colsample_bytree=None,\n",
      "                                     early_stopping_rounds=None,\n",
      "                                     enable_categorical=False, eval_metric=None,\n",
      "                                     gamma=None, gpu_id=None, grow_policy=None,\n",
      "                                     importance_type=None,\n",
      "                                     interaction_...\n",
      "                                     missing=nan, monotone_constraints=None,\n",
      "                                     n_estimators=100, n_jobs=None,\n",
      "                                     num_parallel_tree=None, predictor=None,\n",
      "                                     random_state=None, reg_alpha=None,\n",
      "                                     reg_lambda=None, ...),\n",
      "             n_jobs=-1,\n",
      "             param_grid={'eta': [1], 'eval_metric': ['aucpr'],\n",
      "                         'learning_rate': [0.01, 0.02, 0.05],\n",
      "                         'max_depth': [3, 4, 5],\n",
      "                         'objective': ['binary:logistic'],\n",
      "                         'scale_pos_weight': [1, 3, 5], 'silent': [1],\n",
      "                         'verbosity': [0]})> {'eta': 1, 'eval_metric': 'aucpr', 'learning_rate': 0.05, 'max_depth': 4, 'objective': 'binary:logistic', 'scale_pos_weight': 1, 'silent': 1, 'verbosity': 0}\n",
      "Best_score:  0.7964200477326969\n",
      "GradientBoostingClassifier \n",
      " [[1182  138]\n",
      " [ 237  239]] \n",
      " Accuracy: 0.7912026726057907 \n",
      " precision: 0.6339522546419099 \n",
      " recall: 0.5021008403361344 \n",
      " f1: 0.5603751465416178 \n",
      "\n"
     ]
    },
    {
     "name": "stderr",
     "output_type": "stream",
     "text": [
      "C:\\Users\\Alexey\\anaconda3\\lib\\site-packages\\xgboost\\sklearn.py:793: UserWarning: `early_stopping_rounds` in `fit` method is deprecated for better compatibility with scikit-learn, use `early_stopping_rounds` in constructor or`set_params` instead.\n",
      "  warnings.warn(\n"
     ]
    }
   ],
   "source": [
    "xgb_grid = GridSearchCV(clf, xgbclass_param, cv=skf, n_jobs=-1)\n",
    "xgb_grid.fit(x_train, y_train, early_stopping_rounds=10, eval_set=[(x_test, y_test)])\n",
    "y_predict = xgb_grid.predict(x_test)\n",
    "accuracy_test = accuracy_score(y_test, y_predict)\n",
    "print(xgb_grid.get_params, xgb_grid.best_params_)\n",
    "\n",
    "clf_matrix=confusion_matrix(y_test, y_predict)\n",
    "precision_clf = precision_score(y_test, y_predict)\n",
    "recall_clf = recall_score(y_test, y_predict)\n",
    "f1_mera_clf = f1_score(y_test, y_predict)\n",
    "print('Best_score: ', xgb_grid.best_score_)\n",
    "print ('{} \\n {} \\n Accuracy: {} \\n precision: {} \\n recall: {} \\n f1: {} \\n'.\\\n",
    "       format(al, clf_matrix, accuracy_test, precision_clf, recall_clf, f1_mera_clf))"
   ]
  },
  {
   "cell_type": "markdown",
   "metadata": {},
   "source": [
    "При обучении получили следующие метрики: <br>\n",
    "Accuracy: 0.79  <br>\n",
    "precision: 0.63  <br>\n",
    "recall: 0.5  <br>\n",
    "f1: 0.558  <br>\n",
    "auc: 0.61773"
   ]
  },
  {
   "cell_type": "markdown",
   "metadata": {},
   "source": [
    "### Пробуем Stacking"
   ]
  },
  {
   "cell_type": "code",
   "execution_count": 63,
   "metadata": {},
   "outputs": [],
   "source": [
    "knn, gnb, dtc, lr, sgd, svc, ada, rfc, gbc=model_algoritm()\n",
    "\n",
    "model = [knn, gnb, dtc, lr, sgd, svc, ada, rfc]\n",
    "metrics_stack = pd.DataFrame()\n"
   ]
  },
  {
   "cell_type": "code",
   "execution_count": 64,
   "metadata": {},
   "outputs": [],
   "source": [
    "train, valid, train_true, valid_true = train_test_split(x_train, y_train, train_size=0.5, random_state=35)"
   ]
  },
  {
   "cell_type": "code",
   "execution_count": 65,
   "metadata": {},
   "outputs": [
    {
     "name": "stdout",
     "output_type": "stream",
     "text": [
      "0,  roc_auc model: 0.5964381207028265\n",
      "1,  roc_auc model: 0.7368761140819965\n",
      "2,  roc_auc model: 0.6698975044563279\n",
      "3,  roc_auc model: 0.6908899923605807\n",
      "4,  roc_auc model: 0.6822224344283169\n",
      "5,  roc_auc model: 0.6673319327731092\n",
      "6,  roc_auc model: 0.690769034886682\n",
      "7,  roc_auc model: 0.6507862235803413\n"
     ]
    },
    {
     "data": {
      "text/plain": [
       "GradientBoostingClassifier(n_estimators=60, random_state=17)"
      ]
     },
     "execution_count": 65,
     "metadata": {},
     "output_type": "execute_result"
    }
   ],
   "source": [
    "meta_mtrx=np.empty((train.shape[0], len(model)))\n",
    "\n",
    "for n, mod in enumerate(model):\n",
    "    mod.fit(train, train_true)\n",
    "    meta_mtrx[:, n]=mod.predict(valid)\n",
    "    y_pred=mod.predict(x_test)\n",
    "    print('{},  roc_auc model: {}'.format (n, roc_auc_score(y_test, y_pred)))\n",
    "    \n",
    "meta_mod = GradientBoostingClassifier(n_estimators=60, random_state=17)\n",
    "meta_mod.fit(meta_mtrx, valid_true)"
   ]
  },
  {
   "cell_type": "code",
   "execution_count": 66,
   "metadata": {},
   "outputs": [
    {
     "name": "stdout",
     "output_type": "stream",
     "text": [
      "Meta model roc_auc: 0.6878947033358798 \n",
      "precision: 0.6222826086956522 \n",
      "recall: 0.4810924369747899 \n",
      "f1: 0.5426540284360191\n"
     ]
    }
   ],
   "source": [
    "meta_mtrx_test=np.empty((x_test.shape[0], len(model)))\n",
    "\n",
    "for n, mod in enumerate(model):\n",
    "    meta_mtrx_test[:, n] = mod.predict(x_test)\n",
    "meta_predict = meta_mod.predict(meta_mtrx_test)\n",
    "auc_stacking = roc_auc_score(y_test, meta_predict)\n",
    "precision_mod_stac = precision_score(y_test, meta_predict)\n",
    "recall_mod_stac = recall_score(y_test, meta_predict)\n",
    "f1_mera_stac = f1_score(y_test, meta_predict)\n",
    "print('Meta model roc_auc: {} \\nprecision: {} \\nrecall: {} \\nf1: {}'.\\\n",
    "      format(auc_stacking, precision_mod_stac, recall_mod_stac, f1_mera_stac))"
   ]
  },
  {
   "cell_type": "markdown",
   "metadata": {},
   "source": [
    "Пробуем понижение размерности."
   ]
  },
  {
   "cell_type": "code",
   "execution_count": 67,
   "metadata": {},
   "outputs": [],
   "source": [
    "pca = PCA(n_components=7).fit(x)\n",
    "x_pca = pca.transform(x)\n",
    "\n",
    "svd = SVD(n_components=3).fit(x)\n",
    "x_svd = svd.transform(x)\n"
   ]
  },
  {
   "cell_type": "code",
   "execution_count": 68,
   "metadata": {},
   "outputs": [],
   "source": [
    "x_train, x_test, y_train, y_test = train_test_split(x_pca, y, test_size=0.3, random_state=42, stratify=y)\n",
    "knn, gnb, dtc, lr, sgd, svc, ada, rfc, gbc=model_algoritm()\n",
    "model = [knn, gnb, dtc, lr, sgd, svc, ada, rfc, gbc]\n",
    "\n",
    "metrics_data_pca = pd.DataFrame()\n",
    "\n",
    "for mod, al in zip(model, alg):   \n",
    "    mod.fit(x_train, y_train)\n",
    "    y_predict = mod.predict(x_test)\n",
    "    \n",
    "    accuracy_test = accuracy_score(y_test, y_predict)\n",
    "\n",
    "    precision_mod = precision_score(y_test, y_predict)\n",
    "    recall_mod = recall_score(y_test, y_predict)\n",
    "    f1_mera = f1_score(y_test, y_predict)\n",
    "    auc = roc_auc_score(y_test, y_predict)\n",
    "    \n",
    "    metrict_dict = {'Alg_model':al, 'Accuracy':accuracy_test,\\\n",
    "                    'auc':auc, 'precision':precision_mod,\\\n",
    "                    'recall':recall_mod, 'f1':f1_mera}\n",
    "    metrics_data_pca=metrics_data_pca.append( metrict_dict, ignore_index=True)"
   ]
  },
  {
   "cell_type": "code",
   "execution_count": 69,
   "metadata": {},
   "outputs": [],
   "source": [
    "x_train, x_test, y_train, y_test = train_test_split(x_svd, y, test_size=0.3, random_state=42, stratify=y)\n",
    "knn, gnb, dtc, lr, sgd, svc, ada, rfc, gbc=model_algoritm()\n",
    "model = [knn, gnb, dtc, lr, sgd, svc, ada, rfc, gbc]\n",
    "\n",
    "metrics_data_svd = pd.DataFrame()\n",
    "\n",
    "for mod, al in zip(model, alg):   \n",
    "    mod.fit(x_train, y_train)\n",
    "    y_predict = mod.predict(x_test)\n",
    "    \n",
    "    accuracy_test = accuracy_score(y_test, y_predict)\n",
    "\n",
    "    precision_mod = precision_score(y_test, y_predict)\n",
    "    recall_mod = recall_score(y_test, y_predict)\n",
    "    f1_mera = f1_score(y_test, y_predict)\n",
    "    auc = roc_auc_score(y_test, y_predict)\n",
    "    \n",
    "    metrict_dict = {'Alg_model':al, 'Accuracy':accuracy_test,\\\n",
    "                    'auc':auc, 'precision':precision_mod,\\\n",
    "                    'recall':recall_mod, 'f1':f1_mera}\n",
    "    metrics_data_svd=metrics_data_svd.append( metrict_dict, ignore_index=True)"
   ]
  },
  {
   "cell_type": "code",
   "execution_count": 70,
   "metadata": {},
   "outputs": [
    {
     "data": {
      "text/html": [
       "<div>\n",
       "<style scoped>\n",
       "    .dataframe tbody tr th:only-of-type {\n",
       "        vertical-align: middle;\n",
       "    }\n",
       "\n",
       "    .dataframe tbody tr th {\n",
       "        vertical-align: top;\n",
       "    }\n",
       "\n",
       "    .dataframe thead th {\n",
       "        text-align: right;\n",
       "    }\n",
       "</style>\n",
       "<table border=\"1\" class=\"dataframe\">\n",
       "  <thead>\n",
       "    <tr style=\"text-align: right;\">\n",
       "      <th></th>\n",
       "      <th>Alg_model</th>\n",
       "      <th>Accuracy</th>\n",
       "      <th>auc</th>\n",
       "      <th>precision</th>\n",
       "      <th>recall</th>\n",
       "      <th>f1</th>\n",
       "    </tr>\n",
       "  </thead>\n",
       "  <tbody>\n",
       "    <tr>\n",
       "      <th>0</th>\n",
       "      <td>KNeighborsClassifier</td>\n",
       "      <td>0.744989</td>\n",
       "      <td>0.596145</td>\n",
       "      <td>0.536290</td>\n",
       "      <td>0.279412</td>\n",
       "      <td>0.367403</td>\n",
       "    </tr>\n",
       "    <tr>\n",
       "      <th>1</th>\n",
       "      <td>GaussianNB</td>\n",
       "      <td>0.768374</td>\n",
       "      <td>0.698023</td>\n",
       "      <td>0.564935</td>\n",
       "      <td>0.548319</td>\n",
       "      <td>0.556503</td>\n",
       "    </tr>\n",
       "    <tr>\n",
       "      <th>2</th>\n",
       "      <td>DecisionTreeClassifier</td>\n",
       "      <td>0.764477</td>\n",
       "      <td>0.686641</td>\n",
       "      <td>0.559819</td>\n",
       "      <td>0.521008</td>\n",
       "      <td>0.539717</td>\n",
       "    </tr>\n",
       "    <tr>\n",
       "      <th>3</th>\n",
       "      <td>LogisticRegression</td>\n",
       "      <td>0.787862</td>\n",
       "      <td>0.681729</td>\n",
       "      <td>0.640118</td>\n",
       "      <td>0.455882</td>\n",
       "      <td>0.532515</td>\n",
       "    </tr>\n",
       "    <tr>\n",
       "      <th>4</th>\n",
       "      <td>SGDClassifier</td>\n",
       "      <td>0.785635</td>\n",
       "      <td>0.666110</td>\n",
       "      <td>0.651163</td>\n",
       "      <td>0.411765</td>\n",
       "      <td>0.504505</td>\n",
       "    </tr>\n",
       "    <tr>\n",
       "      <th>5</th>\n",
       "      <td>SVC</td>\n",
       "      <td>0.787305</td>\n",
       "      <td>0.657843</td>\n",
       "      <td>0.674074</td>\n",
       "      <td>0.382353</td>\n",
       "      <td>0.487936</td>\n",
       "    </tr>\n",
       "    <tr>\n",
       "      <th>6</th>\n",
       "      <td>AdaBoostClassifier</td>\n",
       "      <td>0.787305</td>\n",
       "      <td>0.705529</td>\n",
       "      <td>0.614078</td>\n",
       "      <td>0.531513</td>\n",
       "      <td>0.569820</td>\n",
       "    </tr>\n",
       "    <tr>\n",
       "      <th>7</th>\n",
       "      <td>RandomForestClassifier</td>\n",
       "      <td>0.771715</td>\n",
       "      <td>0.674102</td>\n",
       "      <td>0.587302</td>\n",
       "      <td>0.466387</td>\n",
       "      <td>0.519906</td>\n",
       "    </tr>\n",
       "    <tr>\n",
       "      <th>8</th>\n",
       "      <td>GradientBoostingClassifier</td>\n",
       "      <td>0.785635</td>\n",
       "      <td>0.690288</td>\n",
       "      <td>0.621984</td>\n",
       "      <td>0.487395</td>\n",
       "      <td>0.546525</td>\n",
       "    </tr>\n",
       "  </tbody>\n",
       "</table>\n",
       "</div>"
      ],
      "text/plain": [
       "                    Alg_model  Accuracy       auc  precision    recall  \\\n",
       "0        KNeighborsClassifier  0.744989  0.596145   0.536290  0.279412   \n",
       "1                  GaussianNB  0.768374  0.698023   0.564935  0.548319   \n",
       "2      DecisionTreeClassifier  0.764477  0.686641   0.559819  0.521008   \n",
       "3          LogisticRegression  0.787862  0.681729   0.640118  0.455882   \n",
       "4               SGDClassifier  0.785635  0.666110   0.651163  0.411765   \n",
       "5                         SVC  0.787305  0.657843   0.674074  0.382353   \n",
       "6          AdaBoostClassifier  0.787305  0.705529   0.614078  0.531513   \n",
       "7      RandomForestClassifier  0.771715  0.674102   0.587302  0.466387   \n",
       "8  GradientBoostingClassifier  0.785635  0.690288   0.621984  0.487395   \n",
       "\n",
       "         f1  \n",
       "0  0.367403  \n",
       "1  0.556503  \n",
       "2  0.539717  \n",
       "3  0.532515  \n",
       "4  0.504505  \n",
       "5  0.487936  \n",
       "6  0.569820  \n",
       "7  0.519906  \n",
       "8  0.546525  "
      ]
     },
     "execution_count": 70,
     "metadata": {},
     "output_type": "execute_result"
    }
   ],
   "source": [
    "metrics_data_svd"
   ]
  },
  {
   "cell_type": "code",
   "execution_count": 71,
   "metadata": {},
   "outputs": [
    {
     "data": {
      "text/html": [
       "<div>\n",
       "<style scoped>\n",
       "    .dataframe tbody tr th:only-of-type {\n",
       "        vertical-align: middle;\n",
       "    }\n",
       "\n",
       "    .dataframe tbody tr th {\n",
       "        vertical-align: top;\n",
       "    }\n",
       "\n",
       "    .dataframe thead th {\n",
       "        text-align: right;\n",
       "    }\n",
       "</style>\n",
       "<table border=\"1\" class=\"dataframe\">\n",
       "  <thead>\n",
       "    <tr style=\"text-align: right;\">\n",
       "      <th></th>\n",
       "      <th>Alg_model</th>\n",
       "      <th>Accuracy</th>\n",
       "      <th>auc</th>\n",
       "      <th>precision</th>\n",
       "      <th>recall</th>\n",
       "      <th>f1</th>\n",
       "    </tr>\n",
       "  </thead>\n",
       "  <tbody>\n",
       "    <tr>\n",
       "      <th>0</th>\n",
       "      <td>KNeighborsClassifier</td>\n",
       "      <td>0.743318</td>\n",
       "      <td>0.588964</td>\n",
       "      <td>0.532189</td>\n",
       "      <td>0.260504</td>\n",
       "      <td>0.349788</td>\n",
       "    </tr>\n",
       "    <tr>\n",
       "      <th>1</th>\n",
       "      <td>GaussianNB</td>\n",
       "      <td>0.772272</td>\n",
       "      <td>0.697988</td>\n",
       "      <td>0.574944</td>\n",
       "      <td>0.539916</td>\n",
       "      <td>0.556880</td>\n",
       "    </tr>\n",
       "    <tr>\n",
       "      <th>2</th>\n",
       "      <td>DecisionTreeClassifier</td>\n",
       "      <td>0.782851</td>\n",
       "      <td>0.641380</td>\n",
       "      <td>0.680672</td>\n",
       "      <td>0.340336</td>\n",
       "      <td>0.453782</td>\n",
       "    </tr>\n",
       "    <tr>\n",
       "      <th>3</th>\n",
       "      <td>LogisticRegression</td>\n",
       "      <td>0.787305</td>\n",
       "      <td>0.694111</td>\n",
       "      <td>0.624339</td>\n",
       "      <td>0.495798</td>\n",
       "      <td>0.552693</td>\n",
       "    </tr>\n",
       "    <tr>\n",
       "      <th>4</th>\n",
       "      <td>SGDClassifier</td>\n",
       "      <td>0.780067</td>\n",
       "      <td>0.678441</td>\n",
       "      <td>0.612813</td>\n",
       "      <td>0.462185</td>\n",
       "      <td>0.526946</td>\n",
       "    </tr>\n",
       "    <tr>\n",
       "      <th>5</th>\n",
       "      <td>SVC</td>\n",
       "      <td>0.798998</td>\n",
       "      <td>0.687962</td>\n",
       "      <td>0.682540</td>\n",
       "      <td>0.451681</td>\n",
       "      <td>0.543616</td>\n",
       "    </tr>\n",
       "    <tr>\n",
       "      <th>6</th>\n",
       "      <td>AdaBoostClassifier</td>\n",
       "      <td>0.779510</td>\n",
       "      <td>0.690823</td>\n",
       "      <td>0.600503</td>\n",
       "      <td>0.502101</td>\n",
       "      <td>0.546911</td>\n",
       "    </tr>\n",
       "    <tr>\n",
       "      <th>7</th>\n",
       "      <td>RandomForestClassifier</td>\n",
       "      <td>0.770045</td>\n",
       "      <td>0.668936</td>\n",
       "      <td>0.585366</td>\n",
       "      <td>0.453782</td>\n",
       "      <td>0.511243</td>\n",
       "    </tr>\n",
       "    <tr>\n",
       "      <th>8</th>\n",
       "      <td>GradientBoostingClassifier</td>\n",
       "      <td>0.786192</td>\n",
       "      <td>0.692010</td>\n",
       "      <td>0.622340</td>\n",
       "      <td>0.491597</td>\n",
       "      <td>0.549296</td>\n",
       "    </tr>\n",
       "  </tbody>\n",
       "</table>\n",
       "</div>"
      ],
      "text/plain": [
       "                    Alg_model  Accuracy       auc  precision    recall  \\\n",
       "0        KNeighborsClassifier  0.743318  0.588964   0.532189  0.260504   \n",
       "1                  GaussianNB  0.772272  0.697988   0.574944  0.539916   \n",
       "2      DecisionTreeClassifier  0.782851  0.641380   0.680672  0.340336   \n",
       "3          LogisticRegression  0.787305  0.694111   0.624339  0.495798   \n",
       "4               SGDClassifier  0.780067  0.678441   0.612813  0.462185   \n",
       "5                         SVC  0.798998  0.687962   0.682540  0.451681   \n",
       "6          AdaBoostClassifier  0.779510  0.690823   0.600503  0.502101   \n",
       "7      RandomForestClassifier  0.770045  0.668936   0.585366  0.453782   \n",
       "8  GradientBoostingClassifier  0.786192  0.692010   0.622340  0.491597   \n",
       "\n",
       "         f1  \n",
       "0  0.349788  \n",
       "1  0.556880  \n",
       "2  0.453782  \n",
       "3  0.552693  \n",
       "4  0.526946  \n",
       "5  0.543616  \n",
       "6  0.546911  \n",
       "7  0.511243  \n",
       "8  0.549296  "
      ]
     },
     "execution_count": 71,
     "metadata": {},
     "output_type": "execute_result"
    }
   ],
   "source": [
    "metrics_data_pca"
   ]
  },
  {
   "cell_type": "code",
   "execution_count": 72,
   "metadata": {},
   "outputs": [
    {
     "data": {
      "text/html": [
       "<div>\n",
       "<style scoped>\n",
       "    .dataframe tbody tr th:only-of-type {\n",
       "        vertical-align: middle;\n",
       "    }\n",
       "\n",
       "    .dataframe tbody tr th {\n",
       "        vertical-align: top;\n",
       "    }\n",
       "\n",
       "    .dataframe thead th {\n",
       "        text-align: right;\n",
       "    }\n",
       "</style>\n",
       "<table border=\"1\" class=\"dataframe\">\n",
       "  <thead>\n",
       "    <tr style=\"text-align: right;\">\n",
       "      <th></th>\n",
       "      <th>Alg_model</th>\n",
       "      <th>Accuracy</th>\n",
       "      <th>auc</th>\n",
       "      <th>precision</th>\n",
       "      <th>recall</th>\n",
       "      <th>f1</th>\n",
       "    </tr>\n",
       "  </thead>\n",
       "  <tbody>\n",
       "    <tr>\n",
       "      <th>0</th>\n",
       "      <td>KNeighborsClassifier</td>\n",
       "      <td>0.762249</td>\n",
       "      <td>0.613932</td>\n",
       "      <td>0.604255</td>\n",
       "      <td>0.298319</td>\n",
       "      <td>0.399437</td>\n",
       "    </tr>\n",
       "    <tr>\n",
       "      <th>1</th>\n",
       "      <td>GaussianNB</td>\n",
       "      <td>0.754454</td>\n",
       "      <td>0.734896</td>\n",
       "      <td>0.528000</td>\n",
       "      <td>0.693277</td>\n",
       "      <td>0.599455</td>\n",
       "    </tr>\n",
       "    <tr>\n",
       "      <th>2</th>\n",
       "      <td>DecisionTreeClassifier</td>\n",
       "      <td>0.789532</td>\n",
       "      <td>0.659358</td>\n",
       "      <td>0.684211</td>\n",
       "      <td>0.382353</td>\n",
       "      <td>0.490566</td>\n",
       "    </tr>\n",
       "    <tr>\n",
       "      <th>3</th>\n",
       "      <td>LogisticRegression</td>\n",
       "      <td>0.792873</td>\n",
       "      <td>0.699914</td>\n",
       "      <td>0.639037</td>\n",
       "      <td>0.502101</td>\n",
       "      <td>0.562353</td>\n",
       "    </tr>\n",
       "    <tr>\n",
       "      <th>4</th>\n",
       "      <td>SGDClassifier</td>\n",
       "      <td>0.770045</td>\n",
       "      <td>0.728040</td>\n",
       "      <td>0.557798</td>\n",
       "      <td>0.638655</td>\n",
       "      <td>0.595495</td>\n",
       "    </tr>\n",
       "    <tr>\n",
       "      <th>5</th>\n",
       "      <td>SVC</td>\n",
       "      <td>0.798998</td>\n",
       "      <td>0.691991</td>\n",
       "      <td>0.675841</td>\n",
       "      <td>0.464286</td>\n",
       "      <td>0.550436</td>\n",
       "    </tr>\n",
       "    <tr>\n",
       "      <th>6</th>\n",
       "      <td>AdaBoostClassifier</td>\n",
       "      <td>0.793987</td>\n",
       "      <td>0.700000</td>\n",
       "      <td>0.643243</td>\n",
       "      <td>0.500000</td>\n",
       "      <td>0.562648</td>\n",
       "    </tr>\n",
       "    <tr>\n",
       "      <th>7</th>\n",
       "      <td>RandomForestClassifier</td>\n",
       "      <td>0.773385</td>\n",
       "      <td>0.673895</td>\n",
       "      <td>0.592992</td>\n",
       "      <td>0.462185</td>\n",
       "      <td>0.519481</td>\n",
       "    </tr>\n",
       "    <tr>\n",
       "      <th>8</th>\n",
       "      <td>GradientBoostingClassifier</td>\n",
       "      <td>0.790646</td>\n",
       "      <td>0.697056</td>\n",
       "      <td>0.633690</td>\n",
       "      <td>0.497899</td>\n",
       "      <td>0.557647</td>\n",
       "    </tr>\n",
       "  </tbody>\n",
       "</table>\n",
       "</div>"
      ],
      "text/plain": [
       "                    Alg_model  Accuracy       auc  precision    recall  \\\n",
       "0        KNeighborsClassifier  0.762249  0.613932   0.604255  0.298319   \n",
       "1                  GaussianNB  0.754454  0.734896   0.528000  0.693277   \n",
       "2      DecisionTreeClassifier  0.789532  0.659358   0.684211  0.382353   \n",
       "3          LogisticRegression  0.792873  0.699914   0.639037  0.502101   \n",
       "4               SGDClassifier  0.770045  0.728040   0.557798  0.638655   \n",
       "5                         SVC  0.798998  0.691991   0.675841  0.464286   \n",
       "6          AdaBoostClassifier  0.793987  0.700000   0.643243  0.500000   \n",
       "7      RandomForestClassifier  0.773385  0.673895   0.592992  0.462185   \n",
       "8  GradientBoostingClassifier  0.790646  0.697056   0.633690  0.497899   \n",
       "\n",
       "         f1  \n",
       "0  0.399437  \n",
       "1  0.599455  \n",
       "2  0.490566  \n",
       "3  0.562353  \n",
       "4  0.595495  \n",
       "5  0.550436  \n",
       "6  0.562648  \n",
       "7  0.519481  \n",
       "8  0.557647  "
      ]
     },
     "execution_count": 72,
     "metadata": {},
     "output_type": "execute_result"
    }
   ],
   "source": [
    "metrics_data"
   ]
  },
  {
   "cell_type": "markdown",
   "metadata": {},
   "source": [
    "Понижение размерности улучшения метрик моделий не дало."
   ]
  },
  {
   "cell_type": "markdown",
   "metadata": {
    "id": "uyDpeHkTVYSf"
   },
   "source": [
    "# 4. Сравнение качества моделей "
   ]
  },
  {
   "cell_type": "code",
   "execution_count": 73,
   "metadata": {
    "id": "mryxTDJoVYSh"
   },
   "outputs": [
    {
     "name": "stdout",
     "output_type": "stream",
     "text": [
      "Meta model roc_auc: 0.6878947033358798 \n",
      "precision: 0.6222826086956522 \n",
      "recall: 0.4810924369747899 \n",
      "f1: 0.5426540284360191\n"
     ]
    },
    {
     "data": {
      "text/html": [
       "<div>\n",
       "<style scoped>\n",
       "    .dataframe tbody tr th:only-of-type {\n",
       "        vertical-align: middle;\n",
       "    }\n",
       "\n",
       "    .dataframe tbody tr th {\n",
       "        vertical-align: top;\n",
       "    }\n",
       "\n",
       "    .dataframe thead th {\n",
       "        text-align: right;\n",
       "    }\n",
       "</style>\n",
       "<table border=\"1\" class=\"dataframe\">\n",
       "  <thead>\n",
       "    <tr style=\"text-align: right;\">\n",
       "      <th></th>\n",
       "      <th>Alg_model</th>\n",
       "      <th>Accuracy</th>\n",
       "      <th>auc</th>\n",
       "      <th>precision</th>\n",
       "      <th>recall</th>\n",
       "      <th>f1</th>\n",
       "    </tr>\n",
       "  </thead>\n",
       "  <tbody>\n",
       "    <tr>\n",
       "      <th>0</th>\n",
       "      <td>KNeighborsClassifier</td>\n",
       "      <td>0.770601</td>\n",
       "      <td>0.696852</td>\n",
       "      <td>0.571111</td>\n",
       "      <td>0.539916</td>\n",
       "      <td>0.555076</td>\n",
       "    </tr>\n",
       "    <tr>\n",
       "      <th>1</th>\n",
       "      <td>GaussianNB</td>\n",
       "      <td>0.754454</td>\n",
       "      <td>0.734896</td>\n",
       "      <td>0.528000</td>\n",
       "      <td>0.693277</td>\n",
       "      <td>0.599455</td>\n",
       "    </tr>\n",
       "    <tr>\n",
       "      <th>2</th>\n",
       "      <td>DecisionTreeClassifier</td>\n",
       "      <td>0.785078</td>\n",
       "      <td>0.693268</td>\n",
       "      <td>0.617188</td>\n",
       "      <td>0.497899</td>\n",
       "      <td>0.551163</td>\n",
       "    </tr>\n",
       "    <tr>\n",
       "      <th>3</th>\n",
       "      <td>LogisticRegression</td>\n",
       "      <td>0.792873</td>\n",
       "      <td>0.700586</td>\n",
       "      <td>0.638298</td>\n",
       "      <td>0.504202</td>\n",
       "      <td>0.563380</td>\n",
       "    </tr>\n",
       "    <tr>\n",
       "      <th>4</th>\n",
       "      <td>SGDClassifier</td>\n",
       "      <td>0.768931</td>\n",
       "      <td>0.738700</td>\n",
       "      <td>0.552496</td>\n",
       "      <td>0.674370</td>\n",
       "      <td>0.607379</td>\n",
       "    </tr>\n",
       "    <tr>\n",
       "      <th>5</th>\n",
       "      <td>SVC</td>\n",
       "      <td>0.796214</td>\n",
       "      <td>0.709575</td>\n",
       "      <td>0.641026</td>\n",
       "      <td>0.525210</td>\n",
       "      <td>0.577367</td>\n",
       "    </tr>\n",
       "    <tr>\n",
       "      <th>6</th>\n",
       "      <td>AdaBoostClassifier</td>\n",
       "      <td>0.795657</td>\n",
       "      <td>0.704495</td>\n",
       "      <td>0.644562</td>\n",
       "      <td>0.510504</td>\n",
       "      <td>0.569754</td>\n",
       "    </tr>\n",
       "    <tr>\n",
       "      <th>7</th>\n",
       "      <td>RandomForestClassifier</td>\n",
       "      <td>0.772272</td>\n",
       "      <td>0.671795</td>\n",
       "      <td>0.590786</td>\n",
       "      <td>0.457983</td>\n",
       "      <td>0.515976</td>\n",
       "    </tr>\n",
       "    <tr>\n",
       "      <th>8</th>\n",
       "      <td>GradientBoostingClassifier</td>\n",
       "      <td>0.795100</td>\n",
       "      <td>0.697399</td>\n",
       "      <td>0.650838</td>\n",
       "      <td>0.489496</td>\n",
       "      <td>0.558753</td>\n",
       "    </tr>\n",
       "  </tbody>\n",
       "</table>\n",
       "</div>"
      ],
      "text/plain": [
       "                    Alg_model  Accuracy       auc  precision    recall  \\\n",
       "0        KNeighborsClassifier  0.770601  0.696852   0.571111  0.539916   \n",
       "1                  GaussianNB  0.754454  0.734896   0.528000  0.693277   \n",
       "2      DecisionTreeClassifier  0.785078  0.693268   0.617188  0.497899   \n",
       "3          LogisticRegression  0.792873  0.700586   0.638298  0.504202   \n",
       "4               SGDClassifier  0.768931  0.738700   0.552496  0.674370   \n",
       "5                         SVC  0.796214  0.709575   0.641026  0.525210   \n",
       "6          AdaBoostClassifier  0.795657  0.704495   0.644562  0.510504   \n",
       "7      RandomForestClassifier  0.772272  0.671795   0.590786  0.457983   \n",
       "8  GradientBoostingClassifier  0.795100  0.697399   0.650838  0.489496   \n",
       "\n",
       "         f1  \n",
       "0  0.555076  \n",
       "1  0.599455  \n",
       "2  0.551163  \n",
       "3  0.563380  \n",
       "4  0.607379  \n",
       "5  0.577367  \n",
       "6  0.569754  \n",
       "7  0.515976  \n",
       "8  0.558753  "
      ]
     },
     "execution_count": 73,
     "metadata": {},
     "output_type": "execute_result"
    }
   ],
   "source": [
    "print('Meta model roc_auc: {} \\nprecision: {} \\nrecall: {} \\nf1: {}'.\\\n",
    "      format(auc_stacking, precision_mod_stac, recall_mod_stac, f1_mera_stac))\n",
    "metrics_data_grid"
   ]
  },
  {
   "cell_type": "markdown",
   "metadata": {},
   "source": [
    "XGBoost: <br>\n",
    "Accuracy: 0.79  <br>\n",
    "precision: 0.63  <br>\n",
    "recall: 0.5  <br>\n",
    "f1: 0.558  <br>\n",
    "auc: 0.61773"
   ]
  },
  {
   "cell_type": "markdown",
   "metadata": {},
   "source": [
    "Лучший результат предсказания дала модель XGBoost."
   ]
  },
  {
   "cell_type": "code",
   "execution_count": null,
   "metadata": {},
   "outputs": [],
   "source": []
  }
 ],
 "metadata": {
  "colab": {
   "collapsed_sections": [],
   "name": "Coursework_ML.ipynb",
   "provenance": []
  },
  "kernelspec": {
   "display_name": "Python 3 (ipykernel)",
   "language": "python",
   "name": "python3"
  },
  "language_info": {
   "codemirror_mode": {
    "name": "ipython",
    "version": 3
   },
   "file_extension": ".py",
   "mimetype": "text/x-python",
   "name": "python",
   "nbconvert_exporter": "python",
   "pygments_lexer": "ipython3",
   "version": "3.9.7"
  }
 },
 "nbformat": 4,
 "nbformat_minor": 1
}
